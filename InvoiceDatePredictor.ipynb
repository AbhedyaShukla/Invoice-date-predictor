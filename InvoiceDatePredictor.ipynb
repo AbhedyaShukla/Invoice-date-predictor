{
 "cells": [
  {
   "cell_type": "markdown",
   "metadata": {},
   "source": [
    "## Name: Abhedya Shukla\n"
   ]
  },
  {
   "cell_type": "code",
   "execution_count": 145,
   "metadata": {},
   "outputs": [],
   "source": [
    "# importing all req libraries\n",
    "import numpy as np\n",
    "import pandas as pd\n",
    "import seaborn as sns\n",
    "import matplotlib.pyplot as plt\n",
    "from datetime import date\n",
    "import calendar\n",
    "import warnings\n",
    "from sklearn.metrics import mean_squared_error\n",
    "from sklearn.metrics import r2_score\n",
    "from sklearn import model_selection\n",
    "from sklearn.linear_model import LinearRegression\n",
    "from sklearn import preprocessing\n",
    "from sklearn.svm import SVR\n",
    "from sklearn.tree import DecisionTreeRegressor\n",
    "from sklearn.ensemble import RandomForestRegressor\n",
    "import xgboost as xgb\n",
    "import math\n",
    "warnings.filterwarnings('ignore')"
   ]
  },
  {
   "cell_type": "code",
   "execution_count": 146,
   "metadata": {},
   "outputs": [
    {
     "name": "stdout",
     "output_type": "stream",
     "text": [
      "(50000, 19)\n"
     ]
    },
    {
     "data": {
      "text/html": [
       "<div>\n",
       "<style scoped>\n",
       "    .dataframe tbody tr th:only-of-type {\n",
       "        vertical-align: middle;\n",
       "    }\n",
       "\n",
       "    .dataframe tbody tr th {\n",
       "        vertical-align: top;\n",
       "    }\n",
       "\n",
       "    .dataframe thead th {\n",
       "        text-align: right;\n",
       "    }\n",
       "</style>\n",
       "<table border=\"1\" class=\"dataframe\">\n",
       "  <thead>\n",
       "    <tr style=\"text-align: right;\">\n",
       "      <th></th>\n",
       "      <th>business_code</th>\n",
       "      <th>cust_number</th>\n",
       "      <th>name_customer</th>\n",
       "      <th>clear_date</th>\n",
       "      <th>buisness_year</th>\n",
       "      <th>doc_id</th>\n",
       "      <th>posting_date</th>\n",
       "      <th>document_create_date</th>\n",
       "      <th>document_create_date.1</th>\n",
       "      <th>due_in_date</th>\n",
       "      <th>invoice_currency</th>\n",
       "      <th>document type</th>\n",
       "      <th>posting_id</th>\n",
       "      <th>area_business</th>\n",
       "      <th>total_open_amount</th>\n",
       "      <th>baseline_create_date</th>\n",
       "      <th>cust_payment_terms</th>\n",
       "      <th>invoice_id</th>\n",
       "      <th>isOpen</th>\n",
       "    </tr>\n",
       "  </thead>\n",
       "  <tbody>\n",
       "    <tr>\n",
       "      <th>0</th>\n",
       "      <td>U001</td>\n",
       "      <td>0100031704</td>\n",
       "      <td>DELHAIZE us</td>\n",
       "      <td>2019-12-17 00:00:00</td>\n",
       "      <td>2019.0</td>\n",
       "      <td>1.930204e+09</td>\n",
       "      <td>2019-11-29</td>\n",
       "      <td>20191129</td>\n",
       "      <td>20191129</td>\n",
       "      <td>20191214.0</td>\n",
       "      <td>USD</td>\n",
       "      <td>RV</td>\n",
       "      <td>1.0</td>\n",
       "      <td>NaN</td>\n",
       "      <td>108836.23</td>\n",
       "      <td>20191129.0</td>\n",
       "      <td>NAA8</td>\n",
       "      <td>1.930204e+09</td>\n",
       "      <td>0</td>\n",
       "    </tr>\n",
       "    <tr>\n",
       "      <th>1</th>\n",
       "      <td>U001</td>\n",
       "      <td>0200769623</td>\n",
       "      <td>WAL-MAR foundation</td>\n",
       "      <td>2019-10-21 00:00:00</td>\n",
       "      <td>2019.0</td>\n",
       "      <td>1.929983e+09</td>\n",
       "      <td>2019-10-09</td>\n",
       "      <td>20191008</td>\n",
       "      <td>20191009</td>\n",
       "      <td>20191024.0</td>\n",
       "      <td>USD</td>\n",
       "      <td>RV</td>\n",
       "      <td>1.0</td>\n",
       "      <td>NaN</td>\n",
       "      <td>63424.63</td>\n",
       "      <td>20191009.0</td>\n",
       "      <td>NAH4</td>\n",
       "      <td>1.929983e+09</td>\n",
       "      <td>0</td>\n",
       "    </tr>\n",
       "    <tr>\n",
       "      <th>2</th>\n",
       "      <td>U001</td>\n",
       "      <td>0200761734</td>\n",
       "      <td>H E BUT llc</td>\n",
       "      <td>2020-03-11 00:00:00</td>\n",
       "      <td>2020.0</td>\n",
       "      <td>1.930567e+09</td>\n",
       "      <td>2020-02-26</td>\n",
       "      <td>20200225</td>\n",
       "      <td>20200226</td>\n",
       "      <td>20200312.0</td>\n",
       "      <td>USD</td>\n",
       "      <td>RV</td>\n",
       "      <td>1.0</td>\n",
       "      <td>NaN</td>\n",
       "      <td>121487.94</td>\n",
       "      <td>20200226.0</td>\n",
       "      <td>NAA8</td>\n",
       "      <td>1.930567e+09</td>\n",
       "      <td>0</td>\n",
       "    </tr>\n",
       "    <tr>\n",
       "      <th>3</th>\n",
       "      <td>U001</td>\n",
       "      <td>0200705742</td>\n",
       "      <td>DOT llc</td>\n",
       "      <td>2019-08-01 00:00:00</td>\n",
       "      <td>2019.0</td>\n",
       "      <td>1.929613e+09</td>\n",
       "      <td>2019-07-12</td>\n",
       "      <td>20190712</td>\n",
       "      <td>20190712</td>\n",
       "      <td>20190813.0</td>\n",
       "      <td>USD</td>\n",
       "      <td>RV</td>\n",
       "      <td>1.0</td>\n",
       "      <td>NaN</td>\n",
       "      <td>12850.60</td>\n",
       "      <td>20190712.0</td>\n",
       "      <td>NA32</td>\n",
       "      <td>1.929613e+09</td>\n",
       "      <td>0</td>\n",
       "    </tr>\n",
       "    <tr>\n",
       "      <th>4</th>\n",
       "      <td>U001</td>\n",
       "      <td>0200769623</td>\n",
       "      <td>WAL-MAR llc</td>\n",
       "      <td>2019-03-05 00:00:00</td>\n",
       "      <td>2019.0</td>\n",
       "      <td>1.928839e+09</td>\n",
       "      <td>2019-02-23</td>\n",
       "      <td>20190221</td>\n",
       "      <td>20190223</td>\n",
       "      <td>20190310.0</td>\n",
       "      <td>USD</td>\n",
       "      <td>RV</td>\n",
       "      <td>1.0</td>\n",
       "      <td>NaN</td>\n",
       "      <td>705.86</td>\n",
       "      <td>20190223.0</td>\n",
       "      <td>NAH4</td>\n",
       "      <td>1.928839e+09</td>\n",
       "      <td>0</td>\n",
       "    </tr>\n",
       "  </tbody>\n",
       "</table>\n",
       "</div>"
      ],
      "text/plain": [
       "  business_code cust_number       name_customer           clear_date  \\\n",
       "0          U001  0100031704         DELHAIZE us  2019-12-17 00:00:00   \n",
       "1          U001  0200769623  WAL-MAR foundation  2019-10-21 00:00:00   \n",
       "2          U001  0200761734         H E BUT llc  2020-03-11 00:00:00   \n",
       "3          U001  0200705742             DOT llc  2019-08-01 00:00:00   \n",
       "4          U001  0200769623         WAL-MAR llc  2019-03-05 00:00:00   \n",
       "\n",
       "   buisness_year        doc_id posting_date  document_create_date  \\\n",
       "0         2019.0  1.930204e+09   2019-11-29              20191129   \n",
       "1         2019.0  1.929983e+09   2019-10-09              20191008   \n",
       "2         2020.0  1.930567e+09   2020-02-26              20200225   \n",
       "3         2019.0  1.929613e+09   2019-07-12              20190712   \n",
       "4         2019.0  1.928839e+09   2019-02-23              20190221   \n",
       "\n",
       "   document_create_date.1  due_in_date invoice_currency document type  \\\n",
       "0                20191129   20191214.0              USD            RV   \n",
       "1                20191009   20191024.0              USD            RV   \n",
       "2                20200226   20200312.0              USD            RV   \n",
       "3                20190712   20190813.0              USD            RV   \n",
       "4                20190223   20190310.0              USD            RV   \n",
       "\n",
       "   posting_id  area_business  total_open_amount  baseline_create_date  \\\n",
       "0         1.0            NaN          108836.23            20191129.0   \n",
       "1         1.0            NaN           63424.63            20191009.0   \n",
       "2         1.0            NaN          121487.94            20200226.0   \n",
       "3         1.0            NaN           12850.60            20190712.0   \n",
       "4         1.0            NaN             705.86            20190223.0   \n",
       "\n",
       "  cust_payment_terms    invoice_id  isOpen  \n",
       "0               NAA8  1.930204e+09       0  \n",
       "1               NAH4  1.929983e+09       0  \n",
       "2               NAA8  1.930567e+09       0  \n",
       "3               NA32  1.929613e+09       0  \n",
       "4               NAH4  1.928839e+09       0  "
      ]
     },
     "execution_count": 146,
     "metadata": {},
     "output_type": "execute_result"
    }
   ],
   "source": [
    "# read dataset \n",
    "df = pd.read_csv(\"1828001.csv\")\n",
    "print(df.shape)\n",
    "df.head()"
   ]
  },
  {
   "cell_type": "code",
   "execution_count": 147,
   "metadata": {},
   "outputs": [
    {
     "name": "stdout",
     "output_type": "stream",
     "text": [
      "Index(['business_code', 'cust_number', 'name_customer', 'clear_date',\n",
      "       'buisness_year', 'doc_id', 'posting_date', 'document_create_date',\n",
      "       'document_create_date.1', 'due_in_date', 'invoice_currency',\n",
      "       'document type', 'posting_id', 'area_business', 'total_open_amount',\n",
      "       'baseline_create_date', 'cust_payment_terms', 'invoice_id', 'isOpen'],\n",
      "      dtype='object')\n"
     ]
    }
   ],
   "source": [
    "print(df.columns)"
   ]
  },
  {
   "cell_type": "code",
   "execution_count": 148,
   "metadata": {},
   "outputs": [
    {
     "name": "stdout",
     "output_type": "stream",
     "text": [
      "<class 'pandas.core.frame.DataFrame'>\n",
      "RangeIndex: 50000 entries, 0 to 49999\n",
      "Data columns (total 19 columns):\n",
      "business_code             50000 non-null object\n",
      "cust_number               50000 non-null object\n",
      "name_customer             50000 non-null object\n",
      "clear_date                46996 non-null object\n",
      "buisness_year             50000 non-null float64\n",
      "doc_id                    50000 non-null float64\n",
      "posting_date              50000 non-null object\n",
      "document_create_date      50000 non-null int64\n",
      "document_create_date.1    50000 non-null int64\n",
      "due_in_date               50000 non-null float64\n",
      "invoice_currency          50000 non-null object\n",
      "document type             50000 non-null object\n",
      "posting_id                50000 non-null float64\n",
      "area_business             0 non-null float64\n",
      "total_open_amount         50000 non-null float64\n",
      "baseline_create_date      50000 non-null float64\n",
      "cust_payment_terms        50000 non-null object\n",
      "invoice_id                49998 non-null float64\n",
      "isOpen                    50000 non-null int64\n",
      "dtypes: float64(8), int64(3), object(8)\n",
      "memory usage: 7.2+ MB\n",
      "None\n"
     ]
    }
   ],
   "source": [
    "print(df.info())"
   ]
  },
  {
   "cell_type": "code",
   "execution_count": 149,
   "metadata": {},
   "outputs": [
    {
     "data": {
      "text/html": [
       "<div>\n",
       "<style scoped>\n",
       "    .dataframe tbody tr th:only-of-type {\n",
       "        vertical-align: middle;\n",
       "    }\n",
       "\n",
       "    .dataframe tbody tr th {\n",
       "        vertical-align: top;\n",
       "    }\n",
       "\n",
       "    .dataframe thead th {\n",
       "        text-align: right;\n",
       "    }\n",
       "</style>\n",
       "<table border=\"1\" class=\"dataframe\">\n",
       "  <thead>\n",
       "    <tr style=\"text-align: right;\">\n",
       "      <th></th>\n",
       "      <th>buisness_year</th>\n",
       "      <th>doc_id</th>\n",
       "      <th>document_create_date</th>\n",
       "      <th>document_create_date.1</th>\n",
       "      <th>due_in_date</th>\n",
       "      <th>posting_id</th>\n",
       "      <th>area_business</th>\n",
       "      <th>total_open_amount</th>\n",
       "      <th>baseline_create_date</th>\n",
       "      <th>invoice_id</th>\n",
       "      <th>isOpen</th>\n",
       "    </tr>\n",
       "  </thead>\n",
       "  <tbody>\n",
       "    <tr>\n",
       "      <th>count</th>\n",
       "      <td>50000.000000</td>\n",
       "      <td>5.000000e+04</td>\n",
       "      <td>5.000000e+04</td>\n",
       "      <td>5.000000e+04</td>\n",
       "      <td>5.000000e+04</td>\n",
       "      <td>50000.0</td>\n",
       "      <td>0.0</td>\n",
       "      <td>50000.000000</td>\n",
       "      <td>5.000000e+04</td>\n",
       "      <td>4.999800e+04</td>\n",
       "      <td>50000.000000</td>\n",
       "    </tr>\n",
       "    <tr>\n",
       "      <th>mean</th>\n",
       "      <td>2019.182980</td>\n",
       "      <td>2.012509e+09</td>\n",
       "      <td>2.019230e+07</td>\n",
       "      <td>2.019233e+07</td>\n",
       "      <td>2.019248e+07</td>\n",
       "      <td>1.0</td>\n",
       "      <td>NaN</td>\n",
       "      <td>31986.273330</td>\n",
       "      <td>2.019233e+07</td>\n",
       "      <td>2.012210e+09</td>\n",
       "      <td>0.060080</td>\n",
       "    </tr>\n",
       "    <tr>\n",
       "      <th>std</th>\n",
       "      <td>0.386654</td>\n",
       "      <td>2.820592e+08</td>\n",
       "      <td>3.742550e+03</td>\n",
       "      <td>3.733015e+03</td>\n",
       "      <td>3.746445e+03</td>\n",
       "      <td>0.0</td>\n",
       "      <td>NaN</td>\n",
       "      <td>39219.443216</td>\n",
       "      <td>3.731373e+03</td>\n",
       "      <td>2.780608e+08</td>\n",
       "      <td>0.237637</td>\n",
       "    </tr>\n",
       "    <tr>\n",
       "      <th>min</th>\n",
       "      <td>2019.000000</td>\n",
       "      <td>1.928502e+09</td>\n",
       "      <td>2.018123e+07</td>\n",
       "      <td>2.018123e+07</td>\n",
       "      <td>2.018123e+07</td>\n",
       "      <td>1.0</td>\n",
       "      <td>NaN</td>\n",
       "      <td>0.180000</td>\n",
       "      <td>2.018121e+07</td>\n",
       "      <td>1.928502e+09</td>\n",
       "      <td>0.000000</td>\n",
       "    </tr>\n",
       "    <tr>\n",
       "      <th>25%</th>\n",
       "      <td>2019.000000</td>\n",
       "      <td>1.929218e+09</td>\n",
       "      <td>2.019042e+07</td>\n",
       "      <td>2.019042e+07</td>\n",
       "      <td>2.019051e+07</td>\n",
       "      <td>1.0</td>\n",
       "      <td>NaN</td>\n",
       "      <td>4704.845000</td>\n",
       "      <td>2.019042e+07</td>\n",
       "      <td>1.929218e+09</td>\n",
       "      <td>0.000000</td>\n",
       "    </tr>\n",
       "    <tr>\n",
       "      <th>50%</th>\n",
       "      <td>2019.000000</td>\n",
       "      <td>1.929779e+09</td>\n",
       "      <td>2.019080e+07</td>\n",
       "      <td>2.019080e+07</td>\n",
       "      <td>2.019082e+07</td>\n",
       "      <td>1.0</td>\n",
       "      <td>NaN</td>\n",
       "      <td>17273.285000</td>\n",
       "      <td>2.019080e+07</td>\n",
       "      <td>1.929779e+09</td>\n",
       "      <td>0.000000</td>\n",
       "    </tr>\n",
       "    <tr>\n",
       "      <th>75%</th>\n",
       "      <td>2019.000000</td>\n",
       "      <td>1.930356e+09</td>\n",
       "      <td>2.019112e+07</td>\n",
       "      <td>2.019112e+07</td>\n",
       "      <td>2.019120e+07</td>\n",
       "      <td>1.0</td>\n",
       "      <td>NaN</td>\n",
       "      <td>46351.797500</td>\n",
       "      <td>2.019112e+07</td>\n",
       "      <td>1.930356e+09</td>\n",
       "      <td>0.000000</td>\n",
       "    </tr>\n",
       "    <tr>\n",
       "      <th>max</th>\n",
       "      <td>2020.000000</td>\n",
       "      <td>9.500000e+09</td>\n",
       "      <td>2.020052e+07</td>\n",
       "      <td>2.020052e+07</td>\n",
       "      <td>2.020071e+07</td>\n",
       "      <td>1.0</td>\n",
       "      <td>NaN</td>\n",
       "      <td>815529.110000</td>\n",
       "      <td>2.020052e+07</td>\n",
       "      <td>2.960636e+09</td>\n",
       "      <td>1.000000</td>\n",
       "    </tr>\n",
       "  </tbody>\n",
       "</table>\n",
       "</div>"
      ],
      "text/plain": [
       "       buisness_year        doc_id  document_create_date  \\\n",
       "count   50000.000000  5.000000e+04          5.000000e+04   \n",
       "mean     2019.182980  2.012509e+09          2.019230e+07   \n",
       "std         0.386654  2.820592e+08          3.742550e+03   \n",
       "min      2019.000000  1.928502e+09          2.018123e+07   \n",
       "25%      2019.000000  1.929218e+09          2.019042e+07   \n",
       "50%      2019.000000  1.929779e+09          2.019080e+07   \n",
       "75%      2019.000000  1.930356e+09          2.019112e+07   \n",
       "max      2020.000000  9.500000e+09          2.020052e+07   \n",
       "\n",
       "       document_create_date.1   due_in_date  posting_id  area_business  \\\n",
       "count            5.000000e+04  5.000000e+04     50000.0            0.0   \n",
       "mean             2.019233e+07  2.019248e+07         1.0            NaN   \n",
       "std              3.733015e+03  3.746445e+03         0.0            NaN   \n",
       "min              2.018123e+07  2.018123e+07         1.0            NaN   \n",
       "25%              2.019042e+07  2.019051e+07         1.0            NaN   \n",
       "50%              2.019080e+07  2.019082e+07         1.0            NaN   \n",
       "75%              2.019112e+07  2.019120e+07         1.0            NaN   \n",
       "max              2.020052e+07  2.020071e+07         1.0            NaN   \n",
       "\n",
       "       total_open_amount  baseline_create_date    invoice_id        isOpen  \n",
       "count       50000.000000          5.000000e+04  4.999800e+04  50000.000000  \n",
       "mean        31986.273330          2.019233e+07  2.012210e+09      0.060080  \n",
       "std         39219.443216          3.731373e+03  2.780608e+08      0.237637  \n",
       "min             0.180000          2.018121e+07  1.928502e+09      0.000000  \n",
       "25%          4704.845000          2.019042e+07  1.929218e+09      0.000000  \n",
       "50%         17273.285000          2.019080e+07  1.929779e+09      0.000000  \n",
       "75%         46351.797500          2.019112e+07  1.930356e+09      0.000000  \n",
       "max        815529.110000          2.020052e+07  2.960636e+09      1.000000  "
      ]
     },
     "execution_count": 149,
     "metadata": {},
     "output_type": "execute_result"
    }
   ],
   "source": [
    "df.describe()"
   ]
  },
  {
   "cell_type": "markdown",
   "metadata": {},
   "source": [
    "# Analysing Given dataset with graphs"
   ]
  },
  {
   "cell_type": "code",
   "execution_count": 150,
   "metadata": {},
   "outputs": [
    {
     "name": "stdout",
     "output_type": "stream",
     "text": [
      "business_code                 0\n",
      "cust_number                   0\n",
      "name_customer                 0\n",
      "clear_date                 3004\n",
      "buisness_year                 0\n",
      "doc_id                        0\n",
      "posting_date                  0\n",
      "document_create_date          0\n",
      "document_create_date.1        0\n",
      "due_in_date                   0\n",
      "invoice_currency              0\n",
      "document type                 0\n",
      "posting_id                    0\n",
      "area_business             50000\n",
      "total_open_amount             0\n",
      "baseline_create_date          0\n",
      "cust_payment_terms            0\n",
      "invoice_id                    2\n",
      "isOpen                        0\n",
      "dtype: int64\n"
     ]
    },
    {
     "data": {
      "image/png": "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\n",
      "text/plain": [
       "<Figure size 626.4x451.44 with 1 Axes>"
      ]
     },
     "metadata": {},
     "output_type": "display_data"
    }
   ],
   "source": [
    "# heatmap to see null values in each col\n",
    "sns.set(rc={'figure.figsize':(8.7,6.27)})\n",
    "sns.heatmap(df.isnull(), yticklabels = False, cbar = False, cmap = 'viridis')\n",
    "print(df.isnull().sum())"
   ]
  },
  {
   "cell_type": "code",
   "execution_count": 151,
   "metadata": {},
   "outputs": [
    {
     "name": "stdout",
     "output_type": "stream",
     "text": [
      "business_code                 6\n",
      "cust_number                1412\n",
      "name_customer              4263\n",
      "clear_date                  407\n",
      "buisness_year                 2\n",
      "doc_id                    50000\n",
      "posting_date                501\n",
      "document_create_date        504\n",
      "document_create_date.1      501\n",
      "due_in_date                 544\n",
      "invoice_currency              2\n",
      "document type                 2\n",
      "posting_id                    1\n",
      "area_business                 0\n",
      "total_open_amount         45157\n",
      "baseline_create_date        503\n",
      "cust_payment_terms           72\n",
      "invoice_id                49998\n",
      "isOpen                        2\n",
      "dtype: int64\n"
     ]
    },
    {
     "data": {
      "image/png": "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\n",
      "text/plain": [
       "<Figure size 842.4x595.44 with 1 Axes>"
      ]
     },
     "metadata": {},
     "output_type": "display_data"
    }
   ],
   "source": [
    "# barplot to see unique values in each col\n",
    "\n",
    "sns.set(rc={'figure.figsize':(11.7,8.27)})\n",
    "nu = df.nunique().reset_index()\n",
    "nu.columns = ['feature','nunique']\n",
    "ax = sns.barplot(x='nunique', y='feature', data=nu)\n",
    "print(df.nunique())"
   ]
  },
  {
   "cell_type": "code",
   "execution_count": 152,
   "metadata": {},
   "outputs": [
    {
     "name": "stdout",
     "output_type": "stream",
     "text": [
      "RV    49998\n",
      "X2        2\n",
      "Name: document type, dtype: int64\n"
     ]
    },
    {
     "data": {
      "image/png": "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\n",
      "text/plain": [
       "<Figure size 410.4x307.44 with 1 Axes>"
      ]
     },
     "metadata": {},
     "output_type": "display_data"
    }
   ],
   "source": [
    "# countplot for 'document type'\n",
    "\n",
    "sns.set(rc={'figure.figsize':(5.7,4.27)})\n",
    "sns.countplot(x ='document type', data = df)\n",
    "print(df['document type'].value_counts())"
   ]
  },
  {
   "cell_type": "code",
   "execution_count": 153,
   "metadata": {},
   "outputs": [
    {
     "name": "stdout",
     "output_type": "stream",
     "text": [
      "U001    45221\n",
      "CA02     3957\n",
      "U013      644\n",
      "U002      159\n",
      "U005       15\n",
      "U007        4\n",
      "Name: business_code, dtype: int64\n"
     ]
    },
    {
     "data": {
      "image/png": "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\n",
      "text/plain": [
       "<Figure size 410.4x307.44 with 1 Axes>"
      ]
     },
     "metadata": {},
     "output_type": "display_data"
    }
   ],
   "source": [
    "# countplot for 'business_code'\n",
    "\n",
    "sns.set(rc={'figure.figsize':(5.7,4.27)})\n",
    "sns.countplot(x ='business_code', data = df)\n",
    "print(df['business_code'].value_counts())"
   ]
  },
  {
   "cell_type": "code",
   "execution_count": 154,
   "metadata": {},
   "outputs": [
    {
     "name": "stdout",
     "output_type": "stream",
     "text": [
      "2019.0    40851\n",
      "2020.0     9149\n",
      "Name: buisness_year, dtype: int64\n"
     ]
    },
    {
     "data": {
      "image/png": "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\n",
      "text/plain": [
       "<Figure size 410.4x307.44 with 1 Axes>"
      ]
     },
     "metadata": {},
     "output_type": "display_data"
    }
   ],
   "source": [
    "# pie chart to the percentage to data for 2019 and 2020\n",
    "size = df['buisness_year'].value_counts()\n",
    "label = [\"2019\",\"2020\"]\n",
    "exp = [0.0, 0.1]\n",
    "plt.pie(size.tolist(),labels=label,autopct=\"%.2f%%\",explode=exp)\n",
    "print(size)\n",
    "plt.show()"
   ]
  },
  {
   "cell_type": "code",
   "execution_count": 155,
   "metadata": {},
   "outputs": [
    {
     "name": "stdout",
     "output_type": "stream",
     "text": [
      "USD    46042\n",
      "CAD     3958\n",
      "Name: invoice_currency, dtype: int64\n"
     ]
    },
    {
     "data": {
      "image/png": "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\n",
      "text/plain": [
       "<Figure size 410.4x307.44 with 1 Axes>"
      ]
     },
     "metadata": {},
     "output_type": "display_data"
    }
   ],
   "source": [
    "# countplot for 'invoice_currency'\n",
    "\n",
    "sns.set(rc={'figure.figsize':(5.7,4.27)})\n",
    "sns.countplot(x ='invoice_currency', data = df)\n",
    "print(df['invoice_currency'].value_counts())"
   ]
  },
  {
   "cell_type": "code",
   "execution_count": 156,
   "metadata": {},
   "outputs": [
    {
     "name": "stdout",
     "output_type": "stream",
     "text": [
      "0    46996\n",
      "1     3004\n",
      "Name: isOpen, dtype: int64\n"
     ]
    },
    {
     "data": {
      "image/png": "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\n",
      "text/plain": [
       "<Figure size 410.4x307.44 with 1 Axes>"
      ]
     },
     "metadata": {},
     "output_type": "display_data"
    }
   ],
   "source": [
    "# countplot for 'isOpen'\n",
    "\n",
    "sns.set(rc={'figure.figsize':(5.7,4.27)})\n",
    "sns.countplot(x ='isOpen', data = df)\n",
    "print(df['isOpen'].value_counts())"
   ]
  },
  {
   "cell_type": "markdown",
   "metadata": {},
   "source": [
    "# Preprosessing"
   ]
  },
  {
   "cell_type": "code",
   "execution_count": 157,
   "metadata": {},
   "outputs": [
    {
     "name": "stdout",
     "output_type": "stream",
     "text": [
      "(50000, 14)\n"
     ]
    },
    {
     "data": {
      "text/html": [
       "<div>\n",
       "<style scoped>\n",
       "    .dataframe tbody tr th:only-of-type {\n",
       "        vertical-align: middle;\n",
       "    }\n",
       "\n",
       "    .dataframe tbody tr th {\n",
       "        vertical-align: top;\n",
       "    }\n",
       "\n",
       "    .dataframe thead th {\n",
       "        text-align: right;\n",
       "    }\n",
       "</style>\n",
       "<table border=\"1\" class=\"dataframe\">\n",
       "  <thead>\n",
       "    <tr style=\"text-align: right;\">\n",
       "      <th></th>\n",
       "      <th>business_code</th>\n",
       "      <th>cust_number</th>\n",
       "      <th>name_customer</th>\n",
       "      <th>clear_date</th>\n",
       "      <th>buisness_year</th>\n",
       "      <th>posting_date</th>\n",
       "      <th>document_create_date</th>\n",
       "      <th>document_create_date.1</th>\n",
       "      <th>due_in_date</th>\n",
       "      <th>invoice_currency</th>\n",
       "      <th>total_open_amount</th>\n",
       "      <th>baseline_create_date</th>\n",
       "      <th>cust_payment_terms</th>\n",
       "      <th>isOpen</th>\n",
       "    </tr>\n",
       "  </thead>\n",
       "  <tbody>\n",
       "    <tr>\n",
       "      <th>0</th>\n",
       "      <td>U001</td>\n",
       "      <td>0100031704</td>\n",
       "      <td>DELHAIZE us</td>\n",
       "      <td>2019-12-17 00:00:00</td>\n",
       "      <td>2019.0</td>\n",
       "      <td>2019-11-29</td>\n",
       "      <td>20191129</td>\n",
       "      <td>20191129</td>\n",
       "      <td>20191214.0</td>\n",
       "      <td>USD</td>\n",
       "      <td>108836.23</td>\n",
       "      <td>20191129.0</td>\n",
       "      <td>NAA8</td>\n",
       "      <td>0</td>\n",
       "    </tr>\n",
       "    <tr>\n",
       "      <th>1</th>\n",
       "      <td>U001</td>\n",
       "      <td>0200769623</td>\n",
       "      <td>WAL-MAR foundation</td>\n",
       "      <td>2019-10-21 00:00:00</td>\n",
       "      <td>2019.0</td>\n",
       "      <td>2019-10-09</td>\n",
       "      <td>20191008</td>\n",
       "      <td>20191009</td>\n",
       "      <td>20191024.0</td>\n",
       "      <td>USD</td>\n",
       "      <td>63424.63</td>\n",
       "      <td>20191009.0</td>\n",
       "      <td>NAH4</td>\n",
       "      <td>0</td>\n",
       "    </tr>\n",
       "    <tr>\n",
       "      <th>2</th>\n",
       "      <td>U001</td>\n",
       "      <td>0200761734</td>\n",
       "      <td>H E BUT llc</td>\n",
       "      <td>2020-03-11 00:00:00</td>\n",
       "      <td>2020.0</td>\n",
       "      <td>2020-02-26</td>\n",
       "      <td>20200225</td>\n",
       "      <td>20200226</td>\n",
       "      <td>20200312.0</td>\n",
       "      <td>USD</td>\n",
       "      <td>121487.94</td>\n",
       "      <td>20200226.0</td>\n",
       "      <td>NAA8</td>\n",
       "      <td>0</td>\n",
       "    </tr>\n",
       "    <tr>\n",
       "      <th>3</th>\n",
       "      <td>U001</td>\n",
       "      <td>0200705742</td>\n",
       "      <td>DOT llc</td>\n",
       "      <td>2019-08-01 00:00:00</td>\n",
       "      <td>2019.0</td>\n",
       "      <td>2019-07-12</td>\n",
       "      <td>20190712</td>\n",
       "      <td>20190712</td>\n",
       "      <td>20190813.0</td>\n",
       "      <td>USD</td>\n",
       "      <td>12850.60</td>\n",
       "      <td>20190712.0</td>\n",
       "      <td>NA32</td>\n",
       "      <td>0</td>\n",
       "    </tr>\n",
       "    <tr>\n",
       "      <th>4</th>\n",
       "      <td>U001</td>\n",
       "      <td>0200769623</td>\n",
       "      <td>WAL-MAR llc</td>\n",
       "      <td>2019-03-05 00:00:00</td>\n",
       "      <td>2019.0</td>\n",
       "      <td>2019-02-23</td>\n",
       "      <td>20190221</td>\n",
       "      <td>20190223</td>\n",
       "      <td>20190310.0</td>\n",
       "      <td>USD</td>\n",
       "      <td>705.86</td>\n",
       "      <td>20190223.0</td>\n",
       "      <td>NAH4</td>\n",
       "      <td>0</td>\n",
       "    </tr>\n",
       "  </tbody>\n",
       "</table>\n",
       "</div>"
      ],
      "text/plain": [
       "  business_code cust_number       name_customer           clear_date  \\\n",
       "0          U001  0100031704         DELHAIZE us  2019-12-17 00:00:00   \n",
       "1          U001  0200769623  WAL-MAR foundation  2019-10-21 00:00:00   \n",
       "2          U001  0200761734         H E BUT llc  2020-03-11 00:00:00   \n",
       "3          U001  0200705742             DOT llc  2019-08-01 00:00:00   \n",
       "4          U001  0200769623         WAL-MAR llc  2019-03-05 00:00:00   \n",
       "\n",
       "   buisness_year posting_date  document_create_date  document_create_date.1  \\\n",
       "0         2019.0   2019-11-29              20191129                20191129   \n",
       "1         2019.0   2019-10-09              20191008                20191009   \n",
       "2         2020.0   2020-02-26              20200225                20200226   \n",
       "3         2019.0   2019-07-12              20190712                20190712   \n",
       "4         2019.0   2019-02-23              20190221                20190223   \n",
       "\n",
       "   due_in_date invoice_currency  total_open_amount  baseline_create_date  \\\n",
       "0   20191214.0              USD          108836.23            20191129.0   \n",
       "1   20191024.0              USD           63424.63            20191009.0   \n",
       "2   20200312.0              USD          121487.94            20200226.0   \n",
       "3   20190813.0              USD           12850.60            20190712.0   \n",
       "4   20190310.0              USD             705.86            20190223.0   \n",
       "\n",
       "  cust_payment_terms  isOpen  \n",
       "0               NAA8       0  \n",
       "1               NAH4       0  \n",
       "2               NAA8       0  \n",
       "3               NA32       0  \n",
       "4               NAH4       0  "
      ]
     },
     "execution_count": 157,
     "metadata": {},
     "output_type": "execute_result"
    }
   ],
   "source": [
    "# drop rows on the basis of above analysis\n",
    "# reasons for dropping cols:\n",
    "# 'area_business' : all null\n",
    "# 'doc_id'/'invoice_id' : all different value\n",
    "# 'posting_id' : all same value\n",
    "\n",
    "df.drop(['doc_id', 'invoice_id', 'document type', 'area_business', 'posting_id'], axis = 1, inplace = True)\n",
    "print(df.shape)\n",
    "df.head()"
   ]
  },
  {
   "cell_type": "code",
   "execution_count": 158,
   "metadata": {},
   "outputs": [
    {
     "data": {
      "text/html": [
       "<div>\n",
       "<style scoped>\n",
       "    .dataframe tbody tr th:only-of-type {\n",
       "        vertical-align: middle;\n",
       "    }\n",
       "\n",
       "    .dataframe tbody tr th {\n",
       "        vertical-align: top;\n",
       "    }\n",
       "\n",
       "    .dataframe thead th {\n",
       "        text-align: right;\n",
       "    }\n",
       "</style>\n",
       "<table border=\"1\" class=\"dataframe\">\n",
       "  <thead>\n",
       "    <tr style=\"text-align: right;\">\n",
       "      <th></th>\n",
       "      <th>business_code</th>\n",
       "      <th>cust_number</th>\n",
       "      <th>name_customer</th>\n",
       "      <th>clear_date</th>\n",
       "      <th>buisness_year</th>\n",
       "      <th>posting_date</th>\n",
       "      <th>document_create_date</th>\n",
       "      <th>document_create_date.1</th>\n",
       "      <th>due_in_date</th>\n",
       "      <th>invoice_currency</th>\n",
       "      <th>total_open_amount</th>\n",
       "      <th>baseline_create_date</th>\n",
       "      <th>cust_payment_terms</th>\n",
       "      <th>isOpen</th>\n",
       "    </tr>\n",
       "  </thead>\n",
       "  <tbody>\n",
       "    <tr>\n",
       "      <th>0</th>\n",
       "      <td>U001</td>\n",
       "      <td>0100031704</td>\n",
       "      <td>DELHAIZE us</td>\n",
       "      <td>2019-12-17</td>\n",
       "      <td>2019.0</td>\n",
       "      <td>2019-11-29</td>\n",
       "      <td>2019-11-29</td>\n",
       "      <td>2019-11-29</td>\n",
       "      <td>2019-12-14</td>\n",
       "      <td>USD</td>\n",
       "      <td>108836.23</td>\n",
       "      <td>2019-11-29</td>\n",
       "      <td>NAA8</td>\n",
       "      <td>0</td>\n",
       "    </tr>\n",
       "    <tr>\n",
       "      <th>1</th>\n",
       "      <td>U001</td>\n",
       "      <td>0200769623</td>\n",
       "      <td>WAL-MAR foundation</td>\n",
       "      <td>2019-10-21</td>\n",
       "      <td>2019.0</td>\n",
       "      <td>2019-10-09</td>\n",
       "      <td>2019-10-08</td>\n",
       "      <td>2019-10-09</td>\n",
       "      <td>2019-10-24</td>\n",
       "      <td>USD</td>\n",
       "      <td>63424.63</td>\n",
       "      <td>2019-10-09</td>\n",
       "      <td>NAH4</td>\n",
       "      <td>0</td>\n",
       "    </tr>\n",
       "    <tr>\n",
       "      <th>2</th>\n",
       "      <td>U001</td>\n",
       "      <td>0200761734</td>\n",
       "      <td>H E BUT llc</td>\n",
       "      <td>2020-03-11</td>\n",
       "      <td>2020.0</td>\n",
       "      <td>2020-02-26</td>\n",
       "      <td>2020-02-25</td>\n",
       "      <td>2020-02-26</td>\n",
       "      <td>2020-03-12</td>\n",
       "      <td>USD</td>\n",
       "      <td>121487.94</td>\n",
       "      <td>2020-02-26</td>\n",
       "      <td>NAA8</td>\n",
       "      <td>0</td>\n",
       "    </tr>\n",
       "    <tr>\n",
       "      <th>3</th>\n",
       "      <td>U001</td>\n",
       "      <td>0200705742</td>\n",
       "      <td>DOT llc</td>\n",
       "      <td>2019-08-01</td>\n",
       "      <td>2019.0</td>\n",
       "      <td>2019-07-12</td>\n",
       "      <td>2019-07-12</td>\n",
       "      <td>2019-07-12</td>\n",
       "      <td>2019-08-13</td>\n",
       "      <td>USD</td>\n",
       "      <td>12850.60</td>\n",
       "      <td>2019-07-12</td>\n",
       "      <td>NA32</td>\n",
       "      <td>0</td>\n",
       "    </tr>\n",
       "    <tr>\n",
       "      <th>4</th>\n",
       "      <td>U001</td>\n",
       "      <td>0200769623</td>\n",
       "      <td>WAL-MAR llc</td>\n",
       "      <td>2019-03-05</td>\n",
       "      <td>2019.0</td>\n",
       "      <td>2019-02-23</td>\n",
       "      <td>2019-02-21</td>\n",
       "      <td>2019-02-23</td>\n",
       "      <td>2019-03-10</td>\n",
       "      <td>USD</td>\n",
       "      <td>705.86</td>\n",
       "      <td>2019-02-23</td>\n",
       "      <td>NAH4</td>\n",
       "      <td>0</td>\n",
       "    </tr>\n",
       "  </tbody>\n",
       "</table>\n",
       "</div>"
      ],
      "text/plain": [
       "  business_code cust_number       name_customer clear_date  buisness_year  \\\n",
       "0          U001  0100031704         DELHAIZE us 2019-12-17         2019.0   \n",
       "1          U001  0200769623  WAL-MAR foundation 2019-10-21         2019.0   \n",
       "2          U001  0200761734         H E BUT llc 2020-03-11         2020.0   \n",
       "3          U001  0200705742             DOT llc 2019-08-01         2019.0   \n",
       "4          U001  0200769623         WAL-MAR llc 2019-03-05         2019.0   \n",
       "\n",
       "  posting_date document_create_date document_create_date.1 due_in_date  \\\n",
       "0   2019-11-29           2019-11-29             2019-11-29  2019-12-14   \n",
       "1   2019-10-09           2019-10-08             2019-10-09  2019-10-24   \n",
       "2   2020-02-26           2020-02-25             2020-02-26  2020-03-12   \n",
       "3   2019-07-12           2019-07-12             2019-07-12  2019-08-13   \n",
       "4   2019-02-23           2019-02-21             2019-02-23  2019-03-10   \n",
       "\n",
       "  invoice_currency  total_open_amount baseline_create_date cust_payment_terms  \\\n",
       "0              USD          108836.23           2019-11-29               NAA8   \n",
       "1              USD           63424.63           2019-10-09               NAH4   \n",
       "2              USD          121487.94           2020-02-26               NAA8   \n",
       "3              USD           12850.60           2019-07-12               NA32   \n",
       "4              USD             705.86           2019-02-23               NAH4   \n",
       "\n",
       "   isOpen  \n",
       "0       0  \n",
       "1       0  \n",
       "2       0  \n",
       "3       0  \n",
       "4       0  "
      ]
     },
     "execution_count": 158,
     "metadata": {},
     "output_type": "execute_result"
    }
   ],
   "source": [
    "# date time format Conversion\n",
    "\n",
    "df.clear_date = pd.to_datetime(df.clear_date, format='%Y-%m-%d %H:%M:%S')\n",
    "df.posting_date = pd.to_datetime(df.posting_date, format='%Y-%m-%d')\n",
    "df.document_create_date = pd.to_datetime(df.document_create_date, format='%Y%m%d')\n",
    "df['document_create_date.1'] = pd.to_datetime(df['document_create_date.1'], format='%Y%m%d')\n",
    "df.due_in_date = pd.to_datetime(df.due_in_date, format='%Y%m%d')\n",
    "df.baseline_create_date = pd.to_datetime(df.baseline_create_date, format='%Y%m%d')\n",
    "df.head()"
   ]
  },
  {
   "cell_type": "code",
   "execution_count": 160,
   "metadata": {},
   "outputs": [
    {
     "name": "stdout",
     "output_type": "stream",
     "text": [
      "No of same values among following pair of columns\n",
      "\n",
      "document_create_date -- document_create_date.1 :  21198\n",
      "document_create_date -- baseline_create_date :  15951\n",
      "document_create_date -- posting_date :  21200\n",
      "document_create_date.1 -- baseline_create_date :  44457\n",
      "document_create_date.1 -- posting_date :  49998\n",
      "baseline_create_date -- posting_date :  44455\n"
     ]
    }
   ],
   "source": [
    "# comparing two columns and calculating number of same rows in both columns\n",
    "\n",
    "def compare2Col(colA, colB):\n",
    "    daysDiff = df[colA] - df[colB] # calculating days difference\n",
    "    print(colA, \"--\", colB, \": \", end = \" \")\n",
    "    return daysDiff[abs(daysDiff.dt.days) == 0].shape[0]  # returning number of same values in 2 columns\n",
    "\n",
    "lst = ['document_create_date', 'document_create_date.1', 'baseline_create_date', 'posting_date'] # comparing only these cols\n",
    "print(\"No of same values among following pair of columns\") \n",
    "print()\n",
    "for i in range(len(lst)):\n",
    "    for j in lst[i+1:]:\n",
    "        print(compare2Col(lst[i], j))"
   ]
  },
  {
   "cell_type": "code",
   "execution_count": 162,
   "metadata": {},
   "outputs": [
    {
     "name": "stdout",
     "output_type": "stream",
     "text": [
      "Old values: \n",
      "9     16108.56\n",
      "13    33549.25\n",
      "14    42900.43\n",
      "26    76876.16\n",
      "36      344.92\n",
      "Name: total_open_amount, dtype: float64\n",
      "Updated values: \n",
      "9     12081.4200\n",
      "13    25161.9375\n",
      "14    32175.3225\n",
      "26    57657.1200\n",
      "36      258.6900\n",
      "Name: total_open_amount, dtype: float64\n"
     ]
    }
   ],
   "source": [
    "# converting CAD to USD\n",
    "\n",
    "boolarr = df['invoice_currency'] == 'CAD'\n",
    "print(\"Old values: \")\n",
    "print(df.total_open_amount[boolarr].head())\n",
    "df.total_open_amount[boolarr] = df.total_open_amount[boolarr] * 0.75\n",
    "print(\"Updated values: \")\n",
    "print(df.total_open_amount[boolarr].head())"
   ]
  },
  {
   "cell_type": "code",
   "execution_count": 163,
   "metadata": {},
   "outputs": [
    {
     "name": "stdout",
     "output_type": "stream",
     "text": [
      "(50000, 13)\n"
     ]
    },
    {
     "data": {
      "text/html": [
       "<div>\n",
       "<style scoped>\n",
       "    .dataframe tbody tr th:only-of-type {\n",
       "        vertical-align: middle;\n",
       "    }\n",
       "\n",
       "    .dataframe tbody tr th {\n",
       "        vertical-align: top;\n",
       "    }\n",
       "\n",
       "    .dataframe thead th {\n",
       "        text-align: right;\n",
       "    }\n",
       "</style>\n",
       "<table border=\"1\" class=\"dataframe\">\n",
       "  <thead>\n",
       "    <tr style=\"text-align: right;\">\n",
       "      <th></th>\n",
       "      <th>business_code</th>\n",
       "      <th>cust_number</th>\n",
       "      <th>name_customer</th>\n",
       "      <th>clear_date</th>\n",
       "      <th>buisness_year</th>\n",
       "      <th>posting_date</th>\n",
       "      <th>document_create_date</th>\n",
       "      <th>document_create_date.1</th>\n",
       "      <th>due_in_date</th>\n",
       "      <th>amount_inUSD</th>\n",
       "      <th>baseline_create_date</th>\n",
       "      <th>cust_payment_terms</th>\n",
       "      <th>isOpen</th>\n",
       "    </tr>\n",
       "  </thead>\n",
       "  <tbody>\n",
       "    <tr>\n",
       "      <th>0</th>\n",
       "      <td>U001</td>\n",
       "      <td>0100031704</td>\n",
       "      <td>DELHAIZE us</td>\n",
       "      <td>2019-12-17</td>\n",
       "      <td>2019.0</td>\n",
       "      <td>2019-11-29</td>\n",
       "      <td>2019-11-29</td>\n",
       "      <td>2019-11-29</td>\n",
       "      <td>2019-12-14</td>\n",
       "      <td>108836.23</td>\n",
       "      <td>2019-11-29</td>\n",
       "      <td>NAA8</td>\n",
       "      <td>0</td>\n",
       "    </tr>\n",
       "    <tr>\n",
       "      <th>1</th>\n",
       "      <td>U001</td>\n",
       "      <td>0200769623</td>\n",
       "      <td>WAL-MAR foundation</td>\n",
       "      <td>2019-10-21</td>\n",
       "      <td>2019.0</td>\n",
       "      <td>2019-10-09</td>\n",
       "      <td>2019-10-08</td>\n",
       "      <td>2019-10-09</td>\n",
       "      <td>2019-10-24</td>\n",
       "      <td>63424.63</td>\n",
       "      <td>2019-10-09</td>\n",
       "      <td>NAH4</td>\n",
       "      <td>0</td>\n",
       "    </tr>\n",
       "    <tr>\n",
       "      <th>2</th>\n",
       "      <td>U001</td>\n",
       "      <td>0200761734</td>\n",
       "      <td>H E BUT llc</td>\n",
       "      <td>2020-03-11</td>\n",
       "      <td>2020.0</td>\n",
       "      <td>2020-02-26</td>\n",
       "      <td>2020-02-25</td>\n",
       "      <td>2020-02-26</td>\n",
       "      <td>2020-03-12</td>\n",
       "      <td>121487.94</td>\n",
       "      <td>2020-02-26</td>\n",
       "      <td>NAA8</td>\n",
       "      <td>0</td>\n",
       "    </tr>\n",
       "    <tr>\n",
       "      <th>3</th>\n",
       "      <td>U001</td>\n",
       "      <td>0200705742</td>\n",
       "      <td>DOT llc</td>\n",
       "      <td>2019-08-01</td>\n",
       "      <td>2019.0</td>\n",
       "      <td>2019-07-12</td>\n",
       "      <td>2019-07-12</td>\n",
       "      <td>2019-07-12</td>\n",
       "      <td>2019-08-13</td>\n",
       "      <td>12850.60</td>\n",
       "      <td>2019-07-12</td>\n",
       "      <td>NA32</td>\n",
       "      <td>0</td>\n",
       "    </tr>\n",
       "    <tr>\n",
       "      <th>4</th>\n",
       "      <td>U001</td>\n",
       "      <td>0200769623</td>\n",
       "      <td>WAL-MAR llc</td>\n",
       "      <td>2019-03-05</td>\n",
       "      <td>2019.0</td>\n",
       "      <td>2019-02-23</td>\n",
       "      <td>2019-02-21</td>\n",
       "      <td>2019-02-23</td>\n",
       "      <td>2019-03-10</td>\n",
       "      <td>705.86</td>\n",
       "      <td>2019-02-23</td>\n",
       "      <td>NAH4</td>\n",
       "      <td>0</td>\n",
       "    </tr>\n",
       "  </tbody>\n",
       "</table>\n",
       "</div>"
      ],
      "text/plain": [
       "  business_code cust_number       name_customer clear_date  buisness_year  \\\n",
       "0          U001  0100031704         DELHAIZE us 2019-12-17         2019.0   \n",
       "1          U001  0200769623  WAL-MAR foundation 2019-10-21         2019.0   \n",
       "2          U001  0200761734         H E BUT llc 2020-03-11         2020.0   \n",
       "3          U001  0200705742             DOT llc 2019-08-01         2019.0   \n",
       "4          U001  0200769623         WAL-MAR llc 2019-03-05         2019.0   \n",
       "\n",
       "  posting_date document_create_date document_create_date.1 due_in_date  \\\n",
       "0   2019-11-29           2019-11-29             2019-11-29  2019-12-14   \n",
       "1   2019-10-09           2019-10-08             2019-10-09  2019-10-24   \n",
       "2   2020-02-26           2020-02-25             2020-02-26  2020-03-12   \n",
       "3   2019-07-12           2019-07-12             2019-07-12  2019-08-13   \n",
       "4   2019-02-23           2019-02-21             2019-02-23  2019-03-10   \n",
       "\n",
       "   amount_inUSD baseline_create_date cust_payment_terms  isOpen  \n",
       "0     108836.23           2019-11-29               NAA8       0  \n",
       "1      63424.63           2019-10-09               NAH4       0  \n",
       "2     121487.94           2020-02-26               NAA8       0  \n",
       "3      12850.60           2019-07-12               NA32       0  \n",
       "4        705.86           2019-02-23               NAH4       0  "
      ]
     },
     "execution_count": 163,
     "metadata": {},
     "output_type": "execute_result"
    }
   ],
   "source": [
    "# dropping invoice_currency as now it is of no use\n",
    "df.drop(['invoice_currency'], axis = 1, inplace = True)\n",
    "df.rename(columns = {'total_open_amount' : 'amount_inUSD'}, inplace = True)\n",
    "print(df.shape)\n",
    "df.head()"
   ]
  },
  {
   "cell_type": "markdown",
   "metadata": {},
   "source": [
    "### Splitting"
   ]
  },
  {
   "cell_type": "code",
   "execution_count": 166,
   "metadata": {},
   "outputs": [],
   "source": [
    "#splitting \n",
    "df_Trainset = df[df.isOpen == 0] # if isOpen == 0 or clear_date == notNULL\n",
    "df_Testset = df[df.isOpen == 1] # if isOpen == 1 or clear_date == Null"
   ]
  },
  {
   "cell_type": "code",
   "execution_count": 167,
   "metadata": {},
   "outputs": [
    {
     "name": "stdout",
     "output_type": "stream",
     "text": [
      "(46996, 13)\n"
     ]
    },
    {
     "data": {
      "text/html": [
       "<div>\n",
       "<style scoped>\n",
       "    .dataframe tbody tr th:only-of-type {\n",
       "        vertical-align: middle;\n",
       "    }\n",
       "\n",
       "    .dataframe tbody tr th {\n",
       "        vertical-align: top;\n",
       "    }\n",
       "\n",
       "    .dataframe thead th {\n",
       "        text-align: right;\n",
       "    }\n",
       "</style>\n",
       "<table border=\"1\" class=\"dataframe\">\n",
       "  <thead>\n",
       "    <tr style=\"text-align: right;\">\n",
       "      <th></th>\n",
       "      <th>business_code</th>\n",
       "      <th>cust_number</th>\n",
       "      <th>name_customer</th>\n",
       "      <th>clear_date</th>\n",
       "      <th>buisness_year</th>\n",
       "      <th>posting_date</th>\n",
       "      <th>document_create_date</th>\n",
       "      <th>document_create_date.1</th>\n",
       "      <th>due_in_date</th>\n",
       "      <th>amount_inUSD</th>\n",
       "      <th>baseline_create_date</th>\n",
       "      <th>cust_payment_terms</th>\n",
       "      <th>isOpen</th>\n",
       "    </tr>\n",
       "  </thead>\n",
       "  <tbody>\n",
       "    <tr>\n",
       "      <th>0</th>\n",
       "      <td>U001</td>\n",
       "      <td>0200769623</td>\n",
       "      <td>WAL-MAR associates</td>\n",
       "      <td>2019-01-09</td>\n",
       "      <td>2019.0</td>\n",
       "      <td>2018-12-30</td>\n",
       "      <td>2018-12-29</td>\n",
       "      <td>2018-12-30</td>\n",
       "      <td>2019-01-14</td>\n",
       "      <td>43020.23</td>\n",
       "      <td>2018-12-30</td>\n",
       "      <td>NAH4</td>\n",
       "      <td>0</td>\n",
       "    </tr>\n",
       "    <tr>\n",
       "      <th>1</th>\n",
       "      <td>U001</td>\n",
       "      <td>0200726979</td>\n",
       "      <td>BJ'S  co</td>\n",
       "      <td>2019-01-22</td>\n",
       "      <td>2019.0</td>\n",
       "      <td>2018-12-30</td>\n",
       "      <td>2018-12-29</td>\n",
       "      <td>2018-12-30</td>\n",
       "      <td>2019-01-14</td>\n",
       "      <td>135.48</td>\n",
       "      <td>2018-12-30</td>\n",
       "      <td>NAA8</td>\n",
       "      <td>0</td>\n",
       "    </tr>\n",
       "    <tr>\n",
       "      <th>2</th>\n",
       "      <td>U001</td>\n",
       "      <td>0200795490</td>\n",
       "      <td>HY -  systems</td>\n",
       "      <td>2019-01-17</td>\n",
       "      <td>2019.0</td>\n",
       "      <td>2018-12-30</td>\n",
       "      <td>2018-12-30</td>\n",
       "      <td>2018-12-30</td>\n",
       "      <td>2019-01-14</td>\n",
       "      <td>77726.95</td>\n",
       "      <td>2018-12-30</td>\n",
       "      <td>NAA8</td>\n",
       "      <td>0</td>\n",
       "    </tr>\n",
       "    <tr>\n",
       "      <th>3</th>\n",
       "      <td>U001</td>\n",
       "      <td>0200769623</td>\n",
       "      <td>WAL-MAR corporation</td>\n",
       "      <td>2019-01-10</td>\n",
       "      <td>2019.0</td>\n",
       "      <td>2018-12-30</td>\n",
       "      <td>2018-12-30</td>\n",
       "      <td>2018-12-30</td>\n",
       "      <td>2019-01-14</td>\n",
       "      <td>49518.31</td>\n",
       "      <td>2018-12-30</td>\n",
       "      <td>NAH4</td>\n",
       "      <td>0</td>\n",
       "    </tr>\n",
       "    <tr>\n",
       "      <th>4</th>\n",
       "      <td>U013</td>\n",
       "      <td>0100009932</td>\n",
       "      <td>SYSCO IN corp</td>\n",
       "      <td>2019-02-28</td>\n",
       "      <td>2019.0</td>\n",
       "      <td>2018-12-30</td>\n",
       "      <td>2018-12-28</td>\n",
       "      <td>2018-12-30</td>\n",
       "      <td>2019-01-29</td>\n",
       "      <td>18602.72</td>\n",
       "      <td>2018-12-30</td>\n",
       "      <td>NAVE</td>\n",
       "      <td>0</td>\n",
       "    </tr>\n",
       "  </tbody>\n",
       "</table>\n",
       "</div>"
      ],
      "text/plain": [
       "  business_code cust_number        name_customer clear_date  buisness_year  \\\n",
       "0          U001  0200769623   WAL-MAR associates 2019-01-09         2019.0   \n",
       "1          U001  0200726979             BJ'S  co 2019-01-22         2019.0   \n",
       "2          U001  0200795490        HY -  systems 2019-01-17         2019.0   \n",
       "3          U001  0200769623  WAL-MAR corporation 2019-01-10         2019.0   \n",
       "4          U013  0100009932        SYSCO IN corp 2019-02-28         2019.0   \n",
       "\n",
       "  posting_date document_create_date document_create_date.1 due_in_date  \\\n",
       "0   2018-12-30           2018-12-29             2018-12-30  2019-01-14   \n",
       "1   2018-12-30           2018-12-29             2018-12-30  2019-01-14   \n",
       "2   2018-12-30           2018-12-30             2018-12-30  2019-01-14   \n",
       "3   2018-12-30           2018-12-30             2018-12-30  2019-01-14   \n",
       "4   2018-12-30           2018-12-28             2018-12-30  2019-01-29   \n",
       "\n",
       "   amount_inUSD baseline_create_date cust_payment_terms  isOpen  \n",
       "0      43020.23           2018-12-30               NAH4       0  \n",
       "1        135.48           2018-12-30               NAA8       0  \n",
       "2      77726.95           2018-12-30               NAA8       0  \n",
       "3      49518.31           2018-12-30               NAH4       0  \n",
       "4      18602.72           2018-12-30               NAVE       0  "
      ]
     },
     "execution_count": 167,
     "metadata": {},
     "output_type": "execute_result"
    }
   ],
   "source": [
    "# sorting train data on document_create_date.1\n",
    "\n",
    "df_Trainset.sort_values(by=\"document_create_date.1\", inplace = True)\n",
    "df_Trainset.reset_index(inplace = True, drop = True)\n",
    "print(df_Trainset.shape)\n",
    "df_Trainset.head()"
   ]
  },
  {
   "cell_type": "code",
   "execution_count": 168,
   "metadata": {},
   "outputs": [
    {
     "name": "stdout",
     "output_type": "stream",
     "text": [
      "posting_date -- document_create_date :  3319\n",
      "baseline_create_date -- document_create_date :  2113\n",
      "due_in_date -- document_create_date :  0\n",
      "clear_date -- document_create_date :  0\n",
      "posting_date -- document_create_date.1 :  0\n",
      "baseline_create_date -- document_create_date.1 :  0\n",
      "due_in_date -- document_create_date.1 :  0\n",
      "clear_date -- document_create_date.1 :  0\n",
      "baseline_create_date -- posting_date :  0\n",
      "due_in_date -- posting_date :  0\n",
      "clear_date -- posting_date :  0\n",
      "due_in_date -- baseline_create_date :  0\n",
      "clear_date -- baseline_create_date :  5\n",
      "(41559, 13)\n"
     ]
    }
   ],
   "source": [
    "# removing anomalies:\n",
    "# condition:\n",
    "# document_create_date/document_create_date.1 <= posting_date <= baseline_create_date <= due_in_date/clear_date\n",
    "def dropAnomalies(colA, colB):\n",
    "    print(colA,\"--\", colB, \": \", df_Trainset[(df_Trainset[colA] - df_Trainset[colB]).dt.days < 0].shape[0])\n",
    "    df_Trainset.drop(df_Trainset[(df_Trainset[colA] - df_Trainset[colB]).dt.days < 0].index, inplace = True) # droping if not satisfied the above commented condition\n",
    "    df_Trainset.reset_index(inplace = True, drop = True)\n",
    "    \n",
    "lst = [['document_create_date', 'document_create_date.1'], ['posting_date'], ['baseline_create_date'], ['due_in_date', 'clear_date']]   \n",
    "for i in range(len(lst)):\n",
    "    for x in lst[i]:\n",
    "        for j in lst[i+1:]:\n",
    "            for y in j:\n",
    "                dropAnomalies(y, x)\n",
    "\n",
    "print(df_Trainset.shape)"
   ]
  },
  {
   "cell_type": "code",
   "execution_count": 169,
   "metadata": {},
   "outputs": [
    {
     "name": "stdout",
     "output_type": "stream",
     "text": [
      "41559\n",
      "29091 6234 6234\n",
      "41559\n"
     ]
    }
   ],
   "source": [
    "# splitting train into 3 part\n",
    "# 1st 70% = on which we will train model\n",
    "# 2nd 15% = for val1\n",
    "# 3rd 15% = for val2\n",
    "\n",
    "len_df_Trainset = df_Trainset.shape[0]\n",
    "\n",
    "trainIndex = int(len_df_Trainset * 0.70)\n",
    "val1Index = int(len_df_Trainset * 0.85)\n",
    "\n",
    "# used slicing for splitting\n",
    "dfTrain = df_Trainset[: trainIndex]\n",
    "dfVal1 = df_Trainset[trainIndex : val1Index]\n",
    "dfVal2 = df_Trainset[val1Index :]\n",
    "\n",
    "# index reset\n",
    "dfVal1.reset_index(inplace = True, drop = True)\n",
    "dfVal2.reset_index(inplace = True, drop = True)\n",
    "\n",
    "print(df_Trainset.shape[0])\n",
    "print(dfTrain.shape[0], dfVal1.shape[0], dfVal1.shape[0])\n",
    "print(dfTrain.shape[0] + dfVal1.shape[0] + dfVal1.shape[0])"
   ]
  },
  {
   "cell_type": "markdown",
   "metadata": {},
   "source": [
    "### Creating new features"
   ]
  },
  {
   "cell_type": "code",
   "execution_count": 170,
   "metadata": {},
   "outputs": [],
   "source": [
    "#adding 4 features:\n",
    "# due_date_quarter, diff_due_baseline, dueDateMonth, createDateMonth\n",
    "\n",
    "def addFeatures(dF):\n",
    "    dF['due_date_quarter'] = dF.due_in_date.dt.quarter\n",
    "    dF[\"diff_due_baseline\"]=(dF.due_in_date - dF.baseline_create_date).dt.days\n",
    "    dF['dueDateMonth'] = dF.due_in_date.dt.month\n",
    "    dF['createDateMonth'] = dF['document_create_date.1'].dt.month\n",
    "    dF['delay_days'] = (dF.clear_date - dF.due_in_date).dt.days\n",
    "\n",
    "def addFeaturesTest(dF):\n",
    "    dF['due_date_quarter'] = dF.due_in_date.dt.quarter\n",
    "    dF[\"diff_due_baseline\"]=(dF.due_in_date - dF.baseline_create_date).dt.days\n",
    "    dF['dueDateMonth'] = dF.due_in_date.dt.month\n",
    "    dF['createDateMonth'] = dF['document_create_date.1'].dt.month\n",
    "    "
   ]
  },
  {
   "cell_type": "code",
   "execution_count": 171,
   "metadata": {},
   "outputs": [
    {
     "data": {
      "text/html": [
       "<div>\n",
       "<style scoped>\n",
       "    .dataframe tbody tr th:only-of-type {\n",
       "        vertical-align: middle;\n",
       "    }\n",
       "\n",
       "    .dataframe tbody tr th {\n",
       "        vertical-align: top;\n",
       "    }\n",
       "\n",
       "    .dataframe thead th {\n",
       "        text-align: right;\n",
       "    }\n",
       "</style>\n",
       "<table border=\"1\" class=\"dataframe\">\n",
       "  <thead>\n",
       "    <tr style=\"text-align: right;\">\n",
       "      <th></th>\n",
       "      <th>business_code</th>\n",
       "      <th>cust_number</th>\n",
       "      <th>name_customer</th>\n",
       "      <th>clear_date</th>\n",
       "      <th>buisness_year</th>\n",
       "      <th>posting_date</th>\n",
       "      <th>document_create_date</th>\n",
       "      <th>document_create_date.1</th>\n",
       "      <th>due_in_date</th>\n",
       "      <th>amount_inUSD</th>\n",
       "      <th>baseline_create_date</th>\n",
       "      <th>cust_payment_terms</th>\n",
       "      <th>isOpen</th>\n",
       "      <th>due_date_quarter</th>\n",
       "      <th>diff_due_baseline</th>\n",
       "      <th>dueDateMonth</th>\n",
       "      <th>createDateMonth</th>\n",
       "      <th>delay_days</th>\n",
       "    </tr>\n",
       "  </thead>\n",
       "  <tbody>\n",
       "    <tr>\n",
       "      <th>0</th>\n",
       "      <td>U001</td>\n",
       "      <td>0200769623</td>\n",
       "      <td>WAL-MAR associates</td>\n",
       "      <td>2019-01-09</td>\n",
       "      <td>2019.0</td>\n",
       "      <td>2018-12-30</td>\n",
       "      <td>2018-12-29</td>\n",
       "      <td>2018-12-30</td>\n",
       "      <td>2019-01-14</td>\n",
       "      <td>43020.23</td>\n",
       "      <td>2018-12-30</td>\n",
       "      <td>NAH4</td>\n",
       "      <td>0</td>\n",
       "      <td>1</td>\n",
       "      <td>15</td>\n",
       "      <td>1</td>\n",
       "      <td>12</td>\n",
       "      <td>-5</td>\n",
       "    </tr>\n",
       "    <tr>\n",
       "      <th>1</th>\n",
       "      <td>U001</td>\n",
       "      <td>0200726979</td>\n",
       "      <td>BJ'S  co</td>\n",
       "      <td>2019-01-22</td>\n",
       "      <td>2019.0</td>\n",
       "      <td>2018-12-30</td>\n",
       "      <td>2018-12-29</td>\n",
       "      <td>2018-12-30</td>\n",
       "      <td>2019-01-14</td>\n",
       "      <td>135.48</td>\n",
       "      <td>2018-12-30</td>\n",
       "      <td>NAA8</td>\n",
       "      <td>0</td>\n",
       "      <td>1</td>\n",
       "      <td>15</td>\n",
       "      <td>1</td>\n",
       "      <td>12</td>\n",
       "      <td>8</td>\n",
       "    </tr>\n",
       "    <tr>\n",
       "      <th>2</th>\n",
       "      <td>U001</td>\n",
       "      <td>0200795490</td>\n",
       "      <td>HY -  systems</td>\n",
       "      <td>2019-01-17</td>\n",
       "      <td>2019.0</td>\n",
       "      <td>2018-12-30</td>\n",
       "      <td>2018-12-30</td>\n",
       "      <td>2018-12-30</td>\n",
       "      <td>2019-01-14</td>\n",
       "      <td>77726.95</td>\n",
       "      <td>2018-12-30</td>\n",
       "      <td>NAA8</td>\n",
       "      <td>0</td>\n",
       "      <td>1</td>\n",
       "      <td>15</td>\n",
       "      <td>1</td>\n",
       "      <td>12</td>\n",
       "      <td>3</td>\n",
       "    </tr>\n",
       "    <tr>\n",
       "      <th>3</th>\n",
       "      <td>U001</td>\n",
       "      <td>0200769623</td>\n",
       "      <td>WAL-MAR corporation</td>\n",
       "      <td>2019-01-10</td>\n",
       "      <td>2019.0</td>\n",
       "      <td>2018-12-30</td>\n",
       "      <td>2018-12-30</td>\n",
       "      <td>2018-12-30</td>\n",
       "      <td>2019-01-14</td>\n",
       "      <td>49518.31</td>\n",
       "      <td>2018-12-30</td>\n",
       "      <td>NAH4</td>\n",
       "      <td>0</td>\n",
       "      <td>1</td>\n",
       "      <td>15</td>\n",
       "      <td>1</td>\n",
       "      <td>12</td>\n",
       "      <td>-4</td>\n",
       "    </tr>\n",
       "    <tr>\n",
       "      <th>4</th>\n",
       "      <td>U013</td>\n",
       "      <td>0100009932</td>\n",
       "      <td>SYSCO IN corp</td>\n",
       "      <td>2019-02-28</td>\n",
       "      <td>2019.0</td>\n",
       "      <td>2018-12-30</td>\n",
       "      <td>2018-12-28</td>\n",
       "      <td>2018-12-30</td>\n",
       "      <td>2019-01-29</td>\n",
       "      <td>18602.72</td>\n",
       "      <td>2018-12-30</td>\n",
       "      <td>NAVE</td>\n",
       "      <td>0</td>\n",
       "      <td>1</td>\n",
       "      <td>30</td>\n",
       "      <td>1</td>\n",
       "      <td>12</td>\n",
       "      <td>30</td>\n",
       "    </tr>\n",
       "  </tbody>\n",
       "</table>\n",
       "</div>"
      ],
      "text/plain": [
       "  business_code cust_number        name_customer clear_date  buisness_year  \\\n",
       "0          U001  0200769623   WAL-MAR associates 2019-01-09         2019.0   \n",
       "1          U001  0200726979             BJ'S  co 2019-01-22         2019.0   \n",
       "2          U001  0200795490        HY -  systems 2019-01-17         2019.0   \n",
       "3          U001  0200769623  WAL-MAR corporation 2019-01-10         2019.0   \n",
       "4          U013  0100009932        SYSCO IN corp 2019-02-28         2019.0   \n",
       "\n",
       "  posting_date document_create_date document_create_date.1 due_in_date  \\\n",
       "0   2018-12-30           2018-12-29             2018-12-30  2019-01-14   \n",
       "1   2018-12-30           2018-12-29             2018-12-30  2019-01-14   \n",
       "2   2018-12-30           2018-12-30             2018-12-30  2019-01-14   \n",
       "3   2018-12-30           2018-12-30             2018-12-30  2019-01-14   \n",
       "4   2018-12-30           2018-12-28             2018-12-30  2019-01-29   \n",
       "\n",
       "   amount_inUSD baseline_create_date cust_payment_terms  isOpen  \\\n",
       "0      43020.23           2018-12-30               NAH4       0   \n",
       "1        135.48           2018-12-30               NAA8       0   \n",
       "2      77726.95           2018-12-30               NAA8       0   \n",
       "3      49518.31           2018-12-30               NAH4       0   \n",
       "4      18602.72           2018-12-30               NAVE       0   \n",
       "\n",
       "   due_date_quarter  diff_due_baseline  dueDateMonth  createDateMonth  \\\n",
       "0                 1                 15             1               12   \n",
       "1                 1                 15             1               12   \n",
       "2                 1                 15             1               12   \n",
       "3                 1                 15             1               12   \n",
       "4                 1                 30             1               12   \n",
       "\n",
       "   delay_days  \n",
       "0          -5  \n",
       "1           8  \n",
       "2           3  \n",
       "3          -4  \n",
       "4          30  "
      ]
     },
     "execution_count": 171,
     "metadata": {},
     "output_type": "execute_result"
    }
   ],
   "source": [
    "# calling addfeatures for train, val1, val2\n",
    "addFeatures(dfTrain)\n",
    "addFeatures(dfVal1)\n",
    "addFeatures(dfVal2)\n",
    "\n",
    "# calling addfeaturesTest for Final testing data\n",
    "addFeaturesTest(df_Testset)\n",
    "dfTrain.head()"
   ]
  },
  {
   "cell_type": "markdown",
   "metadata": {},
   "source": [
    "# EDA"
   ]
  },
  {
   "cell_type": "code",
   "execution_count": 172,
   "metadata": {},
   "outputs": [
    {
     "data": {
      "text/plain": [
       "<matplotlib.axes._subplots.AxesSubplot at 0x20c88b58b70>"
      ]
     },
     "execution_count": 172,
     "metadata": {},
     "output_type": "execute_result"
    },
    {
     "data": {
      "image/png": "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\n",
      "text/plain": [
       "<Figure size 410.4x307.44 with 1 Axes>"
      ]
     },
     "metadata": {},
     "output_type": "display_data"
    }
   ],
   "source": [
    "# distplot for delay days\n",
    "sns.set(rc={'figure.figsize':(5.7,4.27)})\n",
    "sns.distplot(dfTrain.delay_days)"
   ]
  },
  {
   "cell_type": "code",
   "execution_count": 173,
   "metadata": {},
   "outputs": [],
   "source": [
    "# we can see that this is right skewed hence outliers need to be removed"
   ]
  },
  {
   "cell_type": "code",
   "execution_count": 174,
   "metadata": {},
   "outputs": [
    {
     "name": "stdout",
     "output_type": "stream",
     "text": [
      "-73.0\n",
      "80.0\n"
     ]
    },
    {
     "data": {
      "text/plain": [
       "(28958, 18)"
      ]
     },
     "execution_count": 174,
     "metadata": {},
     "output_type": "execute_result"
    }
   ],
   "source": [
    "#using interquartile range to find upper and lower bound\n",
    "#data which will not fit in this range will be dropped\n",
    "#used quantile range as 95% to 5% and distance as 4\n",
    "\n",
    "IQR = dfTrain['delay_days'].quantile(0.95) - dfTrain['delay_days'].quantile(0.05)\n",
    "lower_boundary = dfTrain['delay_days'].quantile(0.05) - (IQR * 4)\n",
    "upper_boundary = dfTrain['delay_days'].quantile(0.95) + (IQR * 4)\n",
    "print(lower_boundary)\n",
    "print(upper_boundary)\n",
    "\n",
    "l = [x for x in range(int(lower_boundary), int(upper_boundary))]\n",
    "dfTrain = dfTrain[dfTrain['delay_days'].isin(l)]\n",
    "dfTrain.shape # shape after dropping"
   ]
  },
  {
   "cell_type": "code",
   "execution_count": 175,
   "metadata": {},
   "outputs": [
    {
     "data": {
      "text/plain": [
       "<matplotlib.axes._subplots.AxesSubplot at 0x20ce3c29588>"
      ]
     },
     "execution_count": 175,
     "metadata": {},
     "output_type": "execute_result"
    },
    {
     "data": {
      "image/png": "iVBORw0KGgoAAAANSUhEUgAAAXEAAAEeCAYAAAB8JSUrAAAABHNCSVQICAgIfAhkiAAAAAlwSFlzAAALEgAACxIB0t1+/AAAADl0RVh0U29mdHdhcmUAbWF0cGxvdGxpYiB2ZXJzaW9uIDMuMC4zLCBodHRwOi8vbWF0cGxvdGxpYi5vcmcvnQurowAAIABJREFUeJzt3Xt8VeWd7/HPvuWyk0AI5gKogFIBAatnoCJaGLxwTyMIpwiKzlRatQ6WU7V4qai1FS0jOlY9gjPjDIVTpIZLlAZqFa1AhTBWUUBFgXBNAgFy28m+rHX+2NmLBBICmstee3/fr5cvWWuvtfNkJfnml+d51rMcpmmaiIiILTk7ugEiIvLNKcRFRGxMIS4iYmMKcRERG1OIi4jYmEJcRMTGFOIiIjamEBcRsTGFuIiIjSnERURsTCEuImJjCnERERtTiIuI2Ji7oxtwJseOVWMY4UUWu3ZN5ejRqg5uUWPR2CaIznZFY5sgOtsVjW2C6GxXLLXJ6XTQpUvKOZ8X1SFuGKYV4pHtaBONbYLobFc0tgmis13R2CaIznbFe5vUnSIiYmMKcRERG1OIi4jYmEJcRMTGFOIiIjamEBcRsTGFuIiIjSnEJS4Zpsn7Hx8kEDQ6uiki34pCXOLS3sOVvPannXyyq6yjmyLyrSjEJS4FQ+EK3B9QJS72phCXuBS5LToab9kWORcKcYlLkeyOVOQidqUQl7hkmOEUDxkKcbE3hbjEJbO+FA+F1J0i9qYQl7gUqcSD6hMXm1OIS1yK9KIY6hMXm1OIS1xSJS6xQiEuccmw+sRViYu9KcQlLp2cnaJKXOxNIS5xyepO0ewUsTmFuMQlqztF88TF5hTiEpci2a154mJ3CnGJSye7U1SJi70pxCUuRUJcC2CJ3SnEJS5FbrtXJS52pxCXuBQpwDXFUOxOIS5xydACWBIjFOISl07edq/uFLE3hbjEJWtgU5W42NxZhXhBQQHjxo1j1KhRLFmy5LTX3377bfLy8vjBD37A3XffzYkTJwA4ePAg06dPZ8yYMdx1111UV1e3butFvqFId4oqcbG7FkO8pKSEBQsWsHTpUlauXMmyZcvYtWuX9XpVVRWPPfYYCxcuZPXq1fTt25cXXngBgMcff5xp06ZRWFjIwIEDeemll9ruMxE5B9bApipxsbkWQ3zjxo0MHTqU9PR0vF4vo0ePprCw0Ho9EAgwd+5csrOzAejbty+HDh0iEAiwZcsWRo8eDcCkSZManSfSkawn+2h2ithciyFeWlpKZmamtZ2VlUVJSYm13aVLF2644QYAamtrWbhwIddffz3Hjh0jNTUVt9sNQGZmZqPzRDqS7tiUWOFu6QDDMHA4HNa2aZqNtiMqKyv56U9/Sr9+/Zg4cSIlJSWnHdfUeWfStWtqo+3MzLRzOr89RGObIDrbFU1tSkpOAMLdKdHUrohobBNEZ7vivU0thnhOTg5FRUXWdllZGVlZWY2OKS0t5Uc/+hFDhw7loYceAiAjI4PKykpCoRAul6vJ81py9GiVNQCVmZlGWVnlOZ3f1qKxTRCd7Yq2NlVV1QHhVQyjqV0QfdcqIhrbFUttcjodpxWuZ3VeSwcMGzaMTZs2UV5ejs/nY926dQwfPtx6PRQKceeddzJ27Fgefvhhq9r2eDwMHjyYNWvWALBy5cpG54l0JOuhEBrYFJtrsRLPzs5m9uzZzJgxg0AgwOTJk7nsssuYOXMms2bN4vDhw2zfvp1QKMTatWsBGDhwIL/+9a+ZO3cuc+bM4eWXX6Zbt248++yzbf4JiZwNrScusaLFEAfIzc0lNze30b5FixYBMGjQIHbu3NnkeT169GDx4sXfsokirc+aJ65KXGxOd2xKXDr5jE1V4mJvCnGJS7rZR2KFQlzi0snb7hXiYm8KcYlLJxfAUneK2JtCXOKSqUpcYoRCXOLSyXniqsTF3hTiEpf0eDaJFQpxiUuaJy6xQiEucUndKRIrFOISl4wG64mbpqpxsS+FuMSlhrltKMTFxhTiEpcaBrehwU2xMYW4xKWGwa3BTbEzhbjEpYaVuKYZip0pxCUuNazE1Z0idqYQl7jUMLhViYudKcQlLjXMba0pLnamEJe4pD5xiRUKcYlLjbpTNDtFbEwhLnFJ88QlVijEJS4ZBjjq/63uFLEzhbjEJdM0cbvD3/5BDWyKjSnEJS4ZponHFf72V3eK2JlCXOKSYZh46itxDWyKnSnEJS4Zpom7vhIPaRVDsTGFuMQlw0CVuMQEhbjEJcNs0J2igU2xMYW4xKWG3Ska2BQ7U4hLXDIbDmwqxMXGFOISlwwTPK7w7T7qExc7U4hLXApPMXQBqsTF3hTiEpeMBndsamBT7EwhLnHJMEyrO0UDm2JnCnGJSw2nGAYV4mJjCnGJS4YBHld9n7gGNsXGFOISlxpW4oZuuxcbU4hL3ImEtjWwGdLAptiXQlziTmQg05onrj5xsTGFuMQds74SdzodOJ0OhbjYmkJc4k5kWrjT4cCtEBebO6sQLygoYNy4cYwaNYolS5Y0e9wDDzxAfn6+tb1ixQquueYa8vLyyMvLY8GCBd++xSLfUqRP3OFw4HI5NU9cbM3d0gElJSUsWLCA/Px8EhISmDp1KldeeSV9+vRpdMzcuXPZtGkTQ4cOtfZ/+umnzJkzhwkTJrRN60W+AaNBd4rL6dAUQ7G1FivxjRs3MnToUNLT0/F6vYwePZrCwsJGxxQUFHDdddcxduzYRvu3bdvGihUryM3N5b777uPEiROt23qRbyBSeTsd4HY5ddu92FqLIV5aWkpmZqa1nZWVRUlJSaNj7rjjDqZMmXLauZmZmdx9992sXr2abt268cQTT7RCk0W+nUjviQY2JRa02J1iGAYOh8PaNk2z0faZvPjii9a/77jjDm644YZzalzXrqmNtjMz087p/PYQjW2C6GxXtLTJmeADoFOnZNwuB54Ed9S0LSLa2hMRje2K9za1GOI5OTkUFRVZ22VlZWRlZbX4xpWVlbzxxhvcfvvtQDj8XfW3OZ+to0errD99MzPTKCurPKfz21o0tgmis13R1KbyiloAaqrrcLmc1NT4o6ZtEF3XqqFobFcstcnpdJxWuJ7VeS0dMGzYMDZt2kR5eTk+n49169YxfPjwFt/Y6/Xy6quv8vHHHwPw+9///pwrcZG2ECkMHA5wOR1aAEtsrcVKPDs7m9mzZzNjxgwCgQCTJ0/msssuY+bMmcyaNYtBgwY1eZ7L5eK5557jscceo7a2ll69evHMM8+0+icgcq6s2SkOR3hgU7fdi421GOIAubm55ObmNtq3aNGi046bN29eo+3BgwezYsWKb9E8kdYXGciMDGxqnrjYme7YlLhjzU5xOHC7NDtF7E0hLnHHNBre7ONUiIutKcQl7pzsEweXKnGxubPqExeJJQ1vuwcIBA2q64LW64keN26VN2ITCnGJOw1XMXQAFTV+tuw4eRfykP7ZuBP1oyH2oHpD4o5hanaKxA6FuMSdkwtghQc2TT1jU2xMIS5xx2w4sOl0oEJc7EwhLnHHaDjF0KXuFLE3hbjEnUhmO9SdIjFAIS5x57SBTYW42JhCXOJO44FNB3qwj9iZQlzizslKPHzHprpTxM4U4hJ3Gt7s41J3iticQlzijmk2nieu7hSxM4W4xJ1I5e2oH9hUd4rYmUJc4o71UIj6m31MUJCLbSnEJe40vNnH7Qr/COh+H7ErhbjEnYbP2IwsR6u7NsWuFOISdyI9J5HZKeF9CnGxJ4W4xJ1Ga6dEKnGFuNiUQlziTsPb7q0Q1zRDsSmFuMQdo+HslPqBTXWniF0pxCXuRMYwIwtghfcpxMWeFOISd05dACu8ryNbJPLNKcQl7jS67V7dKWJzCnGJO41WMXSoO0XsTSEucSfSneJwhB/PBgpxsS+FuMSdpgY2TfWJi00pxCXuNDmwqUpcbEohLnHHME2c9X3hLmsBLIW42JNCXOKOYZo467/zNcVQ7E4hLnHHMBpU4loAS2xOIS5xxzDCT/UBdMem2J5CXOJOoz5xpx4KIfamEJe4Ew7x8L/drsgUQ6W42JNCXOKOaZhWN4q6U8TuFOISd8KzUxoPbCrExa4U4hJ3DIPT+sR1x6bYlUJc4k7jgU1V4mJvZxXiBQUFjBs3jlGjRrFkyZJmj3vggQfIz8+3tg8ePMj06dMZM2YMd911F9XV1d++xSLfUqObfbQAlthciyFeUlLCggULWLp0KStXrmTZsmXs2rXrtGPuvPNO1q5d22j/448/zrRp0ygsLGTgwIG89NJLrdt6kW+g4c0+Jwc2O7JFIt9ciyG+ceNGhg4dSnp6Ol6vl9GjR1NYWNjomIKCAq677jrGjh1r7QsEAmzZsoXRo0cDMGnSpNPOE+kIhkmDgc1In7hSXOzJ3dIBpaWlZGZmWttZWVl88sknjY654447ANi6dau179ixY6SmpuJ2hz9EZmYmJSUlrdJokW/DbHjbvbpTxOZaDHHDMHDUf8NDeI2JhtvNaeq4szmvoa5dUxttZ2amndP57SEa2wTR2a5oaZPb48LjcZGZmUZpeQ0AHreLtNQkALzeRDIzvB3ZxKi5VqeKxnbFe5taDPGcnByKioqs7bKyMrKyslp844yMDCorKwmFQrhcrrM+r6GjR6ustZ8zM9MoK6s8p/PbWjS2CaKzXdHUptraAIZhhNvjcuF0OPDVBamsqgWgpqaOslCow9oXTdeqoWhsVyy1yel0nFa4ntV5LR0wbNgwNm3aRHl5OT6fj3Xr1jF8+PAW39jj8TB48GDWrFkDwMqVK8/qPJG2Zpgn54lD+FmbWsVQ7KrFEM/Ozmb27NnMmDGDG2+8kQkTJnDZZZcxc+ZMtm3bdsZz586dy+uvv864ceMoKiriZz/7Was1XOSbanjHJoDH7aS8ok5BLrbUYncKQG5uLrm5uY32LVq06LTj5s2b12i7R48eLF68+Fs0T6T1NZxiCDDooq5s3lHKl/tPcMkF6R3YMpFzpzs2Je6EQ/zkdt8L08np6qVoZymVNf6Oa5jIN6AQl7hzaneKw+Fg2MAcHA4HW3aUdmDLRM6dQlzijtHE9NfUZA/nZ6ZwvEqVuNiLQlxiTsgw+PTro82+bhg0qsQj3C4nIT0xWWxGIS4xZ9vX5Tz7+sccKKtq8vWGqxg25HY5CYY0Q0XsRSEuMae2LghARU2gyddNw7SWoG3I5XIQCqkSF3tRiEvMCdQHsa8+zE8V7hM/fb/b5cQwIaTFsMRGFOIScyJdIjW1zYV4033ikeo8EOy4W+5FzpVCXGJOsL4Sr2muEjea6xMP7/MH1KUi9qEQl5hjhXht033ip84Tj4isLR4IKsTFPhTiEnOs7pQzVuKn77cqcXWniI0oxCXmBINnHtg0zzDFECCg7hSxEYW4xJygEelOaX5g09HMFEMAv7pTxEYU4hJzgsFwd0qzUwybG9i0+sTVnSL2oRCXmNNyJd7MwKYqcbEhhbjEnEif+LkPbGp2itiPQlxiTmR2SvN3bNJkd4pViQfUnSL2oRCXmNPwZh+jiUeuGYbmiUvsUIhLzImEuGlCnf/0qrr5VQzVJy72oxCXmNNwOdmmBjcNw8TRxHd+ZO0UdaeInSjEJeYEGywn29TgZnOVuMPhwOV0qDtFbEUhLjEnGDKIRPSpg5umaWI2M7AJ4Rkq6k4RO1GIS8wJhgxSkj3A6d0pkXHOph4KAeEZKrrZR+xEIS4xJxgy6ZSSAEBNXeOVDCOzVZq67R7A7XSoEhdbUYhLzAmGDDp5m67Ejfqn9jST4bhcTi2AJbaiEJeYEwwZDSrxU0K8vhJvap44hKcZqjtF7EQhLjEnGDJJ8LhI9LhOG9isX1al2YFNlwY2xWYU4hJzgiEDt8tJcqLr9O6USCXe3OwU9YmLzSjEJeaEQ9yBN8lzzt0pLpdT3SliKwpxiTnBkInb5cSb6D59imELA5tup0MPShZbUYhLTDFNk2Aw3J3iTXI3UYmH/9/cFMNwJa4QF/tQiEtMCRkmJuFZJt5EdxMDmy30ibscelCy2Iq7oxsg0ppC9YtfeVxOkpNOdqcs/fMXJCa4GP7d7sCZZ6cEAgamaeJo5hiRaKJKXGJKoH7xq0ifuK8uSCBo8P4nB9m+p/xkJd7Md77b6cCk8UqIItFMIS4xJWSFeLg7JWSYfLanHH/AoLIm0OIUw5PP2VSXitiDQlxiSsNKPDkp3Fu4dWcpANW1gQaVePOrGAKaoSK2oT5xiSmRPnG3y0lifVX90ZdHAPDVhayQP9PAJqgSF/tQJS4xxarE3eEphhBeP6Vz/VoqlTXhVQ2bG7SMPGdTlbjYhUJcYopViTsdJCee/ENzSL8sACqq/cAZBjZViYvNKMQlpjSqxOtDPDnRxaCLuwJQURMO8eYfCqFKXOzlrEK8oKCAcePGMWrUKJYsWXLa6zt27GDSpEmMHj2ahx9+mGAwPDd3xYoVXHPNNeTl5ZGXl8eCBQtat/Uip7BmpzjDa6cA9LuwC6nJ4e6U8oo6IPxE++q6IHWnPBTZrYcli820OLBZUlLCggULyM/PJyEhgalTp3LllVfSp08f65j777+fJ598kssvv5yHHnqI119/nWnTpvHpp58yZ84cJkyY0KafhEhEw0o8NdlNj8wUrhqQg8cTDufdhyoA+GLfcap8AQYP6Nbo/EglrlvvxS5arMQ3btzI0KFDSU9Px+v1Mnr0aAoLC63XDxw4QG1tLZdffjkAkyZNsl7ftm0bK1asIDc3l/vuu48TJ0600achEuYPhPvEAyGT2oDBnFv+gf69M0hODFfltf7wX4ktzU45tUIXiVYthnhpaSmZmZnWdlZWFiUlJc2+npmZab2emZnJ3XffzerVq+nWrRtPPPFEa7Zd5DQ+f3j2yefF5WzZUWL953Q5cDkd1PrD4dzcHfWR2SmqxMUuWuxOMQyj0XSsU9eUONPrL774orX/jjvu4IYbbjinxnXtmtpoOzMz7ZzObw/R2CaIzna1R5ucrvCNPWmpSaSlJln7PR43yYlu6uoHLFO8idbrDY9LSAyHvCfR06HXMBq/fhCd7Yr3NrUY4jk5ORQVFVnbZWVlZGVlNXq9rKzM2j5y5AhZWVlUVlbyxhtvcPvttwPhcHe5XOfUuKNHq6w77DIz0ygrqzyn89taNLYJorNd7dWmGl949onP58fdoNoOBIJ43E5OVIUHNn21fiqrwt+PlVW11nGh+u+38uM1HXYNo/HrB9HZrlhqk9PpOK1wPavzWjpg2LBhbNq0ifLycnw+H+vWrWP48OHW6z169CAxMZGtW7cCsGrVKoYPH47X6+XVV1/l448/BuD3v//9OVfiIucqWD+w6WpiInhiguvkeuLNdKc4HeH/9HQfsYsWK/Hs7Gxmz57NjBkzCAQCTJ48mcsuu4yZM2cya9YsBg0axPz583nkkUeoqqpiwIABzJgxA5fLxXPPPcdjjz1GbW0tvXr14plnnmmPz0niWORmn6Zu5kn0nPxL0EHTKe5wOPC4XZonLrZxVmun5Obmkpub22jfokWLrH/369ePP/7xj6edN3jwYFasWPEtmyhy9s5UiSclNAjxMywVnuBxap642Ibu2JSYEjzDeuGNKvEzpLjH7dQT78U2FOISU4LB5lcpbBzizb9HgtulSlxsQyEuMSVkmDgdTVfaiQ26U5q72QdUiYu9aD1xiSnBkNHsAx/OuhL3OPH5g1Sf8pDlRI8bt8oeiTIKcYkpwZDZ5KAmQGLCyf3NzU6B8Pop5Sdq2bKjpNH+If2zcSfqR0aii+oKiSnhSrzp186+T9xp3fQjEu0U4hJTQiHjDJX42c5OcVlTFUWinUJcYkowFB7YbIrH5bReO1Ml7nE7rZuGRKKdQlxiypkGNh0Oh1WNtzRPPGioEhd7UIhLTAkaZrOPXoOT/eJnOIQEj5OgKnGxCYW4xJRgsPlKHE6GeEt94oZhYpoKcol+CnGJKSGjhRC3ulOafw9P/WRwVeNiB5r0KjElPE/8bCrx5t8joT7EN28voaLGz/f6Z9O1c1LzJ4h0IFXiElNCIeOMt9RblfgZbvbplJIAwN6SSsqO13LoaHXrNlKkFakSl5gSDJkkepqvTfr06Iw30X3GLpeBF3dl4vDepCR5WPbOLqprg80eK9LRFOISU4Ihg+TE5h8D2Cklwaq0m+N0OEjzho9JSXJToxCXKKbuFIkpZ5on/k14kzxU1wZa7f1EWptCXGJKqIV54udKlbhEO4W4xJTWr8Td1PpDhHQHp0QphbjElGCwtStxD4CqcYlaCnGJKUHjzFMMz5U3KTz2rxkqEq0U4hIzQoaBadLqfeKgSlyil0JcYkbkNvnWnp0CaIaKRC2FuMSMyIMcWjPEPW4nCW6nKnGJWgpxiRmRSrw1u1Mg3C+uPnGJVgpxiRnBYOtX4hCeoVKj7hSJUgpxiRmRp/G0RSWu7hSJVgpxiRlWJd6KUwwhPEOl1h8iENQNPxJ9FOISM9pidgqcnKFyvKquVd9XpDUoxCVmRGantEV3CsDxyjpqagPsL61q1fcX+Ta0FK3EjLaYYggnb70/csJHwYbdHDxawwv3fh+3SzWQdDx9F4rt+QPhBararjslXOus/mAPuw9VUucPsb9M1bhEB4W42N5vFm/l9Xe+ItBG3Sket5MEj5MqX4CrBuQA8NWBilb9GCLflEJcbK26NkBxaRU7i48RCrXN7BSAjE5J9O/VhX8e34/01AS+Pnii1T+GyDehPnGxteLDlQAcPFKNry4EtH4lDnD9P5zPkEuzcTmdXNy9sypxiRqqxMXW9paE+6ZDhsne+kBv7T7xyHtGKvyLenSi9LiPiho/AF8frNAdndJhFOJia3tLKkmof7r9rvoujraoxAEcTgfVdUG6n5cKwI69x9h18AS/XlzEG+9/3SYfU6QlCnGxlR17j/HM0v+hLhDuOikuqeTSnhl4E93W/O22qMQB6gIhtuwooex4DQ4HbNx2iCVrP8c0YfP2EmuKo2maBIKhNmmDyKkU4hLVdh04QZXvZFfFus3F7Cw+zt+/PEKtP8jhozX0yknjwuxUQkbbTDE8ldvlpEtaIrsPVbK3pIqLuneiujbItq+PAvDnLfv42QsbdIentAuFuESt0uM+nvr9Vhav/RyAKl+AT3eXA/Dh9hL2lVZhAhfmpNEzJ806r626UxrKTE+myhcgweNk5g8GkOb1sOnTw1RU+1n5wW58dUHWbdlnHb/7UAXHKhXq0vrOKsQLCgoYN24co0aNYsmSJae9vmPHDiZNmsTo0aN5+OGHCQbDK74dPHiQ6dOnM2bMGO666y6qq6tbt/ViG1/uO8bWz8us7UAwxPL1uzhw5OT3xN93HeG/C3daT5Zft7kY04Siz0spPe5jy85SQobJgN4ZbPv6KJ/VB3rP7DR6Zp8M8baYYniqzPQkAAb0ziAtJYH/dUkmf991hN//+XP8QYM+53fm3Y8OUF0b4OuDFfxm8VaeXvo/+OpOroYY+TxFvo0WQ7ykpIQFCxawdOlSVq5cybJly9i1a1ejY+6//34effRR1q5di2mavP766wA8/vjjTJs2jcLCQgYOHMhLL73UNp+FzQVDBnX+2OpDbbjiX3lFLXMXbuKlFdv4bE84eN9472v+9LdiXszfRl0gxNETtSwq+Iz1fz/Imk17qajx88Enh7js4q44HQ7Wbi7mw88O0/28FCaPuJiQYbJuyz7SvB48HieZGV4gXIU72iHEL8xOY3C/TPr37EJdIERKsptgyKRoZxnfOb8zN/3jxdT5Q7y1cS+vrP6UlGQPZcd9LF73OcGQwdK3v+CnC97n718eAcL96Os2F/OXrfsx6ruFQobBrgMnrG2RprQ4T3zjxo0MHTqU9PR0AEaPHk1hYSH33HMPAAcOHKC2tpbLL78cgEmTJvFv//ZvTJkyhS1btvDiiy9a+2+55Rbuv//+tvpcbMUwTXbsPcaH20v46Isy/EGDkVf0YNxVPenkTeiQNoUH5AwSPC5rX3VtALfTSWJCeF+VL8DuQxX06dGZ5EQ3Vb4AazcXAzD6exeSnOhi9Qd7eGvTXoZf3p0p/3gx/3f1ZwRDBlldkllUsJ0fjuzDui376N+zCzv2HmPZO7soKa/BMGBg7wxWb9hDcWkV/qDBD6/tw5q/FfPXjw8SDJlMGNaLrulJZGd4KSmvoWunJIp2lmKYJm6Xo837wyPcLieX9sqwtrt2SqKT14PPH+K7fbpyQXYaA3pnULi5GKcD7p3yXb7Yf5y3Nu7lqwMnKDteS3pqAi+t/JR/uWkQf/ushE2fHQZgR/Fxhg3IZuVfv2Z/WTV9enTmjgn9MczwXyeBoMH4Yb3Iqb8Gm3eW0jM7jYG9M6jyBXjnf/ZTcszHgF4ZfOf8zuwvq2L3oUp6nJfCFZechwMHf991hH2lVWRnJNMtIwWfP8jxqjrO65zMd87vjD9g8O5H+/m8+DhD+mcx9NIcamoDfPRlGQ6Hgz49OpOa7CEYMqisOTlmUXbcR3FJJQkeF4P7ZuJNCh9z+GgNqV4PnVMS8NWF2HXgODV1Qfpe0IUuaYlA+K8zt8vZLr+EY0mLIV5aWkpmZqa1nZWVxSeffNLs65mZmZSUlHDs2DFSU1Nxu92N9p+LU38gW/oBNU2TT746yqGjNdTUBnA4HCQnufG4nNTUBfHVBUlOdONNdBMIGdT4ApiEFzjyuJ1U1Qbw1QZJTHCRluzBME2qa4OEQgYpSQkkeBxU1ASoqPbjdDrJ6JxEbW2AmroQhmHQOSWBNG8Cdf4QVbUB3C4nqcluHA4HVTUB6gIhvEkePC4nn3x1hKMVtSR6XAwd2A2nAz7+6gjbdpeTmZ5ERloSQcOgxhfE7XaS3SWZ1GQPRyvqOFZZRyevh8z0ZOr8IQ6XV+MPGmRnJNM5JZEKX5ADJZWkej3kZHgJhAz2lVRR7QvQPTOF7C5eDpfXsL+sCm+Sm57ZaZgmfLnvOMer6uiRmUqvbp3YX1bF3kMVuNxOvtOjM4kJbrZ9fZRQKBz0/Xt24ct9x/H5w10En+0uJz0tkYNHqvmH/lls31POM/+vAl9dkJl5g8hIS2Dhqs9YtWE3A3pn8OMbB/Du1gNs3HYIgNvG9qf/0ZdSAAAPNUlEQVRvz868mP8p+0qr+P7l3cnonMwN37uQL/cfB6BLWgLb9xxjxBU9WP8/+7moRydrqdg+56fjqwta2w25Xc5m9jtO29/8sc3vT0lOYNxVvQgZJhmdksLdPr0yOHLCx6W9MvD5Q/TITGXogGz2l1Vzz02D6N29E6+t2cmSP38BwNTrv4M30U3h5mJef3cXXdIS+d/X9uFvnx3m397YRihk4HI5cTodvPDGJ5yfnUbxoQpMYMO2Q6R5E/DVBQmGDFKSPezetMdqo8MBRZ/Dms17ceDAHwjhAJqq8ZMS3IBJrT9E59RE3tq0l3c/OkidP2gNHkN4id4zzY9fu2Uf55+XwsHyagKB8F9miR4X/mAI03qb3XROTaTOH6TWHyIpwUVWFy8up4NjlXX46oKkJLtJSQr/gqzxBUjwuOicmoDb6aDGb1BbFyA7w0tOFy/VtQGOnKgFB3RJTcTtcnKsspbKmgCdUhLo2jkJB1DrD+F0QKo3gUSPkypfkOraIMkJLtK8HoKGSWW1n5BhkpacQFKii+raINX14yBpXg+mCRXVfgIhk9RkD6lJbvxBA5wOrri4K9n1fx2erW9agLQY4oZhNPrNaJpmo+3mXj/1OOCcf8N26ZLSaLtr19QWz7n2vLQWj5GO88ql3RptX3R+Bj/KG9Ro3/P/5x8bbZ/frTP/fmnOae9167hLG22P//7FZ/zYF53fpcn9F2R3Outjz2X/Red34dYJAxrtyx3ep9H2b+6+5rTzJl57SaPtW8cPOO0YkYgW+8RzcnIoKzs5IFVWVkZWVlazrx85coSsrCwyMjKorKwkFAo1eZ6IiHx7LYb4sGHD2LRpE+Xl5fh8PtatW8fw4cOt13v06EFiYiJbt24FYNWqVQwfPhyPx8PgwYNZs2YNACtXrmx0noiIfHsO0zRbHPouKCjglVdeIRAIMHnyZGbOnMnMmTOZNWsWgwYNYufOnTzyyCNUVVUxYMAAnnrqKRISEjhw4ABz5szh6NGjdOvWjWeffZbOnTu3x+clIhIXzirERUQkOumOTRERG1OIi4jYmEJcRMTGFOIiIjamEBcRsbGoDvH9+/czffp08vLyuPXWWzlw4AAAfr+f+++/n7FjxzJx4kS++uqrdm1XaWkpP/7xj7nxxhuZOnUq+/fvB6CiooIf//jHjB07lunTpze6Caq9bN++nYEDB1rbHXmttm7dyuTJk8nLy+O2226zvn7RcJ1aWpmzvfzud79j/PjxjB8/nmeeeQYIr1eUm5vLqFGjWLBgQYe1DeDpp59mzpw5QPOrlbaXd955h0mTJjF27FiefPJJIDqu1apVq6yv4dNPPw2087Uyo9h9991nLlmyxDRN0/zv//5v8+c//7lpmqb56quvmr/85S9N0zTNzZs3m1OmTGnXdt12223m0qVLTdM0zaVLl5r33nuvaZqm+fjjj5uvvPKKaZqmuWLFCmt/e6mpqTGnTp1qXnLJJda+jrxWI0eONHfs2GGapmkuX77cvPPOO03T7PjrdPjwYXPkyJHmsWPHzOrqajM3N9f88ssv27UNpmmaGzZsMH/4wx+adXV1pt/vN2fMmGEWFBSYI0aMMIuLi81AIGD+8z//s7l+/fp2b5tpmubGjRvNK6+80vzFL35hmqZpjh8/3vzoo49M0zTNBx980PrZbA/FxcXmNddcYx46dMj0+/3mzTffbK5fv77Dr1VNTY05ZMgQ8+jRo2YgEDAnT55sbtiwoV2vVVRX4oZhUFUVfuSWz+cjKSm8hvP69ev5wQ9+AMCQIUMoLy/n4MGD7dKm8vJydu7cydSpUwG46aab+NnPfma1Kzc3F4AJEybw/vvvEwi03wN0582bx2233dZoX0ddK7/fz7333ku/fv0A6Nu3L4cOHbLa1JHXqeHKnF6v11qZs71lZmYyZ84cEhIS8Hg8XHzxxezZs4eePXtywQUX4Ha7yc3N7ZC2HT9+nAULFnDnnXcCTa9W2p7t+vOf/8y4cePIycnB4/GwYMECkpOTO/xahULhxe98Ph/BYJBgMIjb7W7XaxXVIX7vvffy2muv8f3vf5//+I//YObMmUDTKycePny4Xdq0b98+unfvzrx587jpppuYNWsWHo/ntHa53W5SU1MpLy9vl3b95S9/oba2ljFjxjTa31HXKiEhgby8PCD8y/h3v/sd119//Wltau/rdOrHh/DKnOe6wmZr+M53vmP9oO/Zs4c//elPOByOqGjbo48+yuzZs+nUKbw4WHOrlbaXvXv3EgqFuPPOO8nLy2Pp0qVR8XVMTU3l3nvvZezYsYwYMYIePXrg8Xja9Vq1uIphe/jTn/7EU0891WjfRRddRF1dHU888QTXX389a9eu5Z577mH16tWnrZBomiZOZ+v/PmqqXT179mT79u38y7/8Cw8++CDLly9nzpw5LF68+LTz26JdzV2rqqoqXnvttSbb0NbXqrk2vfbaa/j9fubMmUMwGOQnP/lJk+e31devOS2tzNnevvzyS37yk5/wwAMP4HK52LNnT4e2bfny5XTr1o2rrrqK/Px8oOOvWSgUoqioiMWLF+P1ernrrrtISkrq8K/jzp07eeONN3j33XdJS0vjvvvuY8OGDe3arqgI8bFjxzJ27NhG+8rLyxk7dqxVvY0ePZq5c+dy7NgxsrOzKS0t5cILLwROrpzYHu0qLi5m4sSJjBw5Egh3B0QGWbKysjhy5Ag5OTkEg0Gqq6uth2m0ZZuWL1/OK6+8wvTp0619eXl5LFmypF2uVVNtAqiuruauu+4iPT2dl19+2fqLpT2u05nk5ORQVFRkbXfkCptbt25l1qxZPPTQQ4wfP57NmzefcdXQ9rBmzRrKysrIy8vjxIkT1NTU4HA4mlyttL2cd955XHXVVWRkhB/Ecf3111NYWIjLdfIBJh1xrT744AOuuuoqunbtCoS7Tv793/+9Xa9V1HandOnShcTEROuHbevWraSkpJCRkcGIESNYtWoVAEVFRSQmJtK9e/d2adeFF15ITk4O7733HgDvvvsuAwaE13seMWIEK1euBMI/CIMHD7aCqy1NmTKFt99+m1WrVlnXZdWqVaSmpnbotbr//vvp2bMnzz33HAkJJ59W1FHXKaKllTnby6FDh/jpT3/K/PnzGT9+PADf/e532b17t9V98Oabb7Z72/7zP/+TN998k1WrVjFr1iyuvfZannrqqSZXK20vI0eO5IMPPqCiooJQKMRf//pXxowZ0+HXql+/fmzcuJGamhpM0+Sdd97he9/7Xrteq6heAOuTTz7hV7/6FbW1taSkpPDoo49y6aWXUldXx6OPPsqnn35KQkICTz75pBWk7eHrr7+2/ipITU1l3rx59OrVi+PHjzNnzhz27dtHWloa8+fP5/zzz2+3dkX07duXzz8PPyG+o67V9u3bmThxIn369LGe7pSVlcWiRYui4jo1tTJne3vyySd54403rL+SAKZOnUqvXr146qmnqKurY8SIETz44IMd1t2Tn5/P5s2bmTdvXrOrlbaXP/7xj7z22msEAgGuvvpqHnnkET788MMOv1YLFy4kPz8fj8fDoEGDmDt3Lrt37263axXVIS4iImcWtd0pIiLSMoW4iIiNKcRFRGxMIS4iYmMKcRERG1OIi20UFhZy6623nvGYa6+9lm3btrVpO8rLy+nbt2+bfgyRs6UQFxGxsai47V6kOc8//zwFBQWkp6fTs2dPILxC4vz589myZQuhUIhLL72URx55hNTUVOs8wzD4zW9+w8cff0x1dTWmafLkk0/Sv39/RowYweuvv07v3r0BuP3227nlllusJR6asm7dOmvlvIbrtdfU1PDYY4+xd+9ejh8/TkpKCvPnzycpKYkJEybw3nvvkZaWhmmajBkzhueff57i4mJefvllHA4HLpeLBx54gCFDhrTRFZRYp0pcotbbb7/NunXrWLlyJX/4wx+sZYkXLlyIy+UiPz+f1atXk5WVxfz58xud+/HHH1NaWsqyZctYs2YNEydOZNGiRXi9Xm688UaWL18OhNfC2bNnj7UWTlOOHDnCQw89xAsvvEB+fj49evSwXnv//ffp1KkTy5YtY+3atQwcOJAlS5bQvXt3hg4dyurVqwH429/+Rnp6Ov369eOZZ55h7ty55Ofnc++99/Lhhx+29qWTOKJKXKLWpk2buOGGG6wK+6abbmLx4sWsX7+eyspKNm7cCEAgELAWIIq44oor6Ny5M3/4wx/Yt28fH374ISkpKQBMmzaNW265hdmzZ7Ns2TImT57caCGlU23dupVLLrmEPn36APDDH/6QZ599FoAxY8ZwwQUXsHjxYvbu3cvmzZu54oorAJg+fTq//e1vmT59OsuWLePmm28GYPz48dxzzz2MGDGCq6++ukNu+ZfYoUpcolrDVSEiQWsYBg899JC14Nfy5ct5/vnnG523fv16a+nb6667zgpQgN69e9O3b1/+8pe/8OabbzJlypRzakdkLRiApUuX8vDDD5OUlERubi4TJkywjh02bBg+n49NmzZRVFRkrfQ4e/Zsli5dysCBA8nPz2+0+qTIuVKIS9QaPnw4hYWFVFRUYBiGtRrjNddcw5IlS/D7/RiGwS9/+UurMo7YsGEDI0eOZNq0aQwcOJC3336bUChkvT5t2jSeeeYZLrvsMrKzs8/YjiFDhrBr1y527twJYK2xDeGlSCdOnMiUKVPo3bs377zzjvVxHA4H06ZN4+GHH2bChAkkJiYSDAa59tpr8fl83HzzzcydO5fPP/8cv9/fKtdM4o8WwJKotnDhQpYvX06nTp3o168fxcXFLFq0iKeffprNmzcTCoXo378/v/rVr0hNTeXaa6/l+eefx+v18vOf/5xQKEQwGOTqq69m3bp1rF+/HqfTSSgU4uqrr+Zf//Vfufrqq1tsx3vvvcdvf/tbPB4PQ4YM4b/+67/4/PPPKSoq4tFHH7X+Srj88sv54osvWLZsGRB+KPTQoUN56623rIHUt99+m+effx63243D4eCf/umfrMfViZwrhbjEpY8++ohHHnmEN998s02XLn3rrbdYsWIFr776apt9DIlvGtiUuPOLX/yCzZs3s2DBAivAX331VQoKCpo8/kc/+pH1sOlzceutt1JeXs5LL730rdorciaqxEVEbEwDmyIiNqYQFxGxMYW4iIiNKcRFRGxMIS4iYmMKcRERG/v/xD6uQGHg9HIAAAAASUVORK5CYII=\n",
      "text/plain": [
       "<Figure size 410.4x307.44 with 1 Axes>"
      ]
     },
     "metadata": {},
     "output_type": "display_data"
    }
   ],
   "source": [
    "# distplot for delay days\n",
    "\n",
    "sns.set(rc={'figure.figsize':(5.7,4.27)})\n",
    "sns.distplot(dfTrain.delay_days)"
   ]
  },
  {
   "cell_type": "markdown",
   "metadata": {},
   "source": [
    "now it is normal"
   ]
  },
  {
   "cell_type": "code",
   "execution_count": 176,
   "metadata": {},
   "outputs": [
    {
     "data": {
      "text/html": [
       "<div>\n",
       "<style scoped>\n",
       "    .dataframe tbody tr th:only-of-type {\n",
       "        vertical-align: middle;\n",
       "    }\n",
       "\n",
       "    .dataframe tbody tr th {\n",
       "        vertical-align: top;\n",
       "    }\n",
       "\n",
       "    .dataframe thead th {\n",
       "        text-align: right;\n",
       "    }\n",
       "</style>\n",
       "<table border=\"1\" class=\"dataframe\">\n",
       "  <thead>\n",
       "    <tr style=\"text-align: right;\">\n",
       "      <th></th>\n",
       "      <th>business_code</th>\n",
       "      <th>cust_number</th>\n",
       "      <th>name_customer</th>\n",
       "      <th>amount_inUSD</th>\n",
       "      <th>cust_payment_terms</th>\n",
       "      <th>due_date_quarter</th>\n",
       "      <th>diff_due_baseline</th>\n",
       "      <th>dueDateMonth</th>\n",
       "      <th>createDateMonth</th>\n",
       "      <th>delay_days</th>\n",
       "    </tr>\n",
       "  </thead>\n",
       "  <tbody>\n",
       "    <tr>\n",
       "      <th>0</th>\n",
       "      <td>U001</td>\n",
       "      <td>0200769623</td>\n",
       "      <td>WAL-MAR associates</td>\n",
       "      <td>43020.23</td>\n",
       "      <td>NAH4</td>\n",
       "      <td>1</td>\n",
       "      <td>15</td>\n",
       "      <td>1</td>\n",
       "      <td>12</td>\n",
       "      <td>-5</td>\n",
       "    </tr>\n",
       "    <tr>\n",
       "      <th>1</th>\n",
       "      <td>U001</td>\n",
       "      <td>0200726979</td>\n",
       "      <td>BJ'S  co</td>\n",
       "      <td>135.48</td>\n",
       "      <td>NAA8</td>\n",
       "      <td>1</td>\n",
       "      <td>15</td>\n",
       "      <td>1</td>\n",
       "      <td>12</td>\n",
       "      <td>8</td>\n",
       "    </tr>\n",
       "    <tr>\n",
       "      <th>2</th>\n",
       "      <td>U001</td>\n",
       "      <td>0200795490</td>\n",
       "      <td>HY -  systems</td>\n",
       "      <td>77726.95</td>\n",
       "      <td>NAA8</td>\n",
       "      <td>1</td>\n",
       "      <td>15</td>\n",
       "      <td>1</td>\n",
       "      <td>12</td>\n",
       "      <td>3</td>\n",
       "    </tr>\n",
       "    <tr>\n",
       "      <th>3</th>\n",
       "      <td>U001</td>\n",
       "      <td>0200769623</td>\n",
       "      <td>WAL-MAR corporation</td>\n",
       "      <td>49518.31</td>\n",
       "      <td>NAH4</td>\n",
       "      <td>1</td>\n",
       "      <td>15</td>\n",
       "      <td>1</td>\n",
       "      <td>12</td>\n",
       "      <td>-4</td>\n",
       "    </tr>\n",
       "    <tr>\n",
       "      <th>4</th>\n",
       "      <td>U013</td>\n",
       "      <td>0100009932</td>\n",
       "      <td>SYSCO IN corp</td>\n",
       "      <td>18602.72</td>\n",
       "      <td>NAVE</td>\n",
       "      <td>1</td>\n",
       "      <td>30</td>\n",
       "      <td>1</td>\n",
       "      <td>12</td>\n",
       "      <td>30</td>\n",
       "    </tr>\n",
       "  </tbody>\n",
       "</table>\n",
       "</div>"
      ],
      "text/plain": [
       "  business_code cust_number        name_customer  amount_inUSD  \\\n",
       "0          U001  0200769623   WAL-MAR associates      43020.23   \n",
       "1          U001  0200726979             BJ'S  co        135.48   \n",
       "2          U001  0200795490        HY -  systems      77726.95   \n",
       "3          U001  0200769623  WAL-MAR corporation      49518.31   \n",
       "4          U013  0100009932        SYSCO IN corp      18602.72   \n",
       "\n",
       "  cust_payment_terms  due_date_quarter  diff_due_baseline  dueDateMonth  \\\n",
       "0               NAH4                 1                 15             1   \n",
       "1               NAA8                 1                 15             1   \n",
       "2               NAA8                 1                 15             1   \n",
       "3               NAH4                 1                 15             1   \n",
       "4               NAVE                 1                 30             1   \n",
       "\n",
       "   createDateMonth  delay_days  \n",
       "0               12          -5  \n",
       "1               12           8  \n",
       "2               12           3  \n",
       "3               12          -4  \n",
       "4               12          30  "
      ]
     },
     "execution_count": 176,
     "metadata": {},
     "output_type": "execute_result"
    }
   ],
   "source": [
    "#  dropping all dates columns and the columns we are not using as features\n",
    "dfTrain.drop(['document_create_date','posting_date', 'clear_date', 'document_create_date.1', 'due_in_date', 'baseline_create_date', 'isOpen', 'buisness_year'], axis = 1, inplace = True)\n",
    "dfVal1.drop(['document_create_date','posting_date', 'clear_date', 'document_create_date.1', 'due_in_date', 'baseline_create_date', 'isOpen', 'buisness_year'], axis = 1, inplace = True)\n",
    "dfVal2.drop(['document_create_date','posting_date', 'clear_date', 'document_create_date.1', 'due_in_date', 'baseline_create_date', 'isOpen', 'buisness_year'], axis = 1, inplace = True)\n",
    "dueDateTest = df_Testset.due_in_date\n",
    "df_Testset.drop(['document_create_date','posting_date', 'clear_date', 'document_create_date.1', 'due_in_date', 'baseline_create_date', 'isOpen', 'buisness_year'], axis = 1, inplace = True)\n",
    "x_test = df_Testset.copy()\n",
    "dfTrain.head()"
   ]
  },
  {
   "cell_type": "markdown",
   "metadata": {},
   "source": [
    "### Encoding (Target)"
   ]
  },
  {
   "cell_type": "code",
   "execution_count": 101,
   "metadata": {},
   "outputs": [],
   "source": [
    "# doing target encoding on train set andmapping them on val and test set\n",
    "# filling Nan with 0\n",
    "# dF1 = train , dF2 = val1 , dF3 = val2 , dF4 = test\n",
    "# encoding 4 columns: business_code, cust_number, cust_payment_terms, name_customer\n",
    "def encoding(dF1, dF2, dF3, dF4):\n",
    "    label1 = dF1.groupby(['business_code'])['delay_days'].mean().to_dict()\n",
    "    dF1['business_code'] = dF1['business_code'].map(label1)\n",
    "    dF2['business_code'] = dF2['business_code'].map(label1)\n",
    "    dF2['business_code'] = dF2['business_code'].fillna(0)\n",
    "    dF3['business_code'] = dF3['business_code'].map(label1)\n",
    "    dF3['business_code'] = dF3['business_code'].fillna(0)\n",
    "    dF4['business_code'] = dF4['business_code'].map(label1)\n",
    "    dF4['business_code'] = dF4['business_code'].fillna(0)\n",
    "    \n",
    "    label2 = dF1.groupby(['cust_number'])['delay_days'].mean().to_dict()\n",
    "    dF1['cust_number'] = dF1['cust_number'].map(label2)\n",
    "    dF2['cust_number'] = dF2['cust_number'].map(label2)\n",
    "    dF2['cust_number'] = dF2['cust_number'].fillna(0)\n",
    "    dF3['cust_number'] = dF3['cust_number'].map(label2)\n",
    "    dF3['cust_number'] = dF3['cust_number'].fillna(0)\n",
    "    dF4['cust_number'] = dF4['cust_number'].map(label2)\n",
    "    dF4['cust_number'] = dF4['cust_number'].fillna(0)\n",
    "    \n",
    "    label3 = dF1.groupby(['cust_payment_terms'])['delay_days'].mean().to_dict()\n",
    "    dF1['cust_payment_terms'] = dF1['cust_payment_terms'].map(label3)\n",
    "    dF2['cust_payment_terms'] = dF2['cust_payment_terms'].map(label3)\n",
    "    dF2['cust_payment_terms'] = dF2['cust_payment_terms'].fillna(0)\n",
    "    dF3['cust_payment_terms'] = dF3['cust_payment_terms'].map(label3)\n",
    "    dF3['cust_payment_terms'] = dF3['cust_payment_terms'].fillna(0)\n",
    "    dF4['cust_payment_terms'] = dF4['cust_payment_terms'].map(label3)\n",
    "    dF4['cust_payment_terms'] = dF4['cust_payment_terms'].fillna(0)\n",
    "    \n",
    "    label4 = dF1.groupby(['name_customer'])['delay_days'].mean().to_dict()\n",
    "    dF1['name_customer'] = dF1['name_customer'].map(label4)\n",
    "    dF2['name_customer'] = dF2['name_customer'].map(label4)\n",
    "    dF2['name_customer'] = dF2['name_customer'].fillna(0)\n",
    "    dF3['name_customer'] = dF3['name_customer'].map(label4)\n",
    "    dF3['name_customer'] = dF3['name_customer'].fillna(0)\n",
    "    dF4['name_customer'] = dF4['name_customer'].map(label4)\n",
    "    dF4['name_customer'] = dF4['name_customer'].fillna(0)"
   ]
  },
  {
   "cell_type": "code",
   "execution_count": 102,
   "metadata": {},
   "outputs": [],
   "source": [
    "# Calling Encoding function \n",
    "encoding(dfTrain, dfVal1, dfVal2, df_Testset)"
   ]
  },
  {
   "cell_type": "code",
   "execution_count": 103,
   "metadata": {},
   "outputs": [
    {
     "data": {
      "text/plain": [
       "<matplotlib.axes._subplots.AxesSubplot at 0x20ce56f5e10>"
      ]
     },
     "execution_count": 103,
     "metadata": {},
     "output_type": "execute_result"
    },
    {
     "data": {
      "image/png": "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\n",
      "text/plain": [
       "<Figure size 410.4x307.44 with 1 Axes>"
      ]
     },
     "metadata": {},
     "output_type": "display_data"
    }
   ],
   "source": [
    "# distplot for cust_number\n",
    "\n",
    "sns.set(rc={'figure.figsize':(5.7,4.27)})\n",
    "sns.distplot(dfTrain.cust_number)"
   ]
  },
  {
   "cell_type": "markdown",
   "metadata": {},
   "source": [
    "This plot is normal"
   ]
  },
  {
   "cell_type": "code",
   "execution_count": 104,
   "metadata": {},
   "outputs": [
    {
     "data": {
      "text/plain": [
       "<matplotlib.axes._subplots.AxesSubplot at 0x20ce3cc7ac8>"
      ]
     },
     "execution_count": 104,
     "metadata": {},
     "output_type": "execute_result"
    },
    {
     "data": {
      "image/png": "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\n",
      "text/plain": [
       "<Figure size 410.4x307.44 with 1 Axes>"
      ]
     },
     "metadata": {},
     "output_type": "display_data"
    }
   ],
   "source": [
    "# distplot for name_customer\n",
    "\n",
    "sns.set(rc={'figure.figsize':(5.7,4.27)})\n",
    "sns.distplot(dfTrain.name_customer)"
   ]
  },
  {
   "cell_type": "markdown",
   "metadata": {},
   "source": [
    "this plot is also normal"
   ]
  },
  {
   "cell_type": "code",
   "execution_count": 105,
   "metadata": {},
   "outputs": [
    {
     "data": {
      "text/plain": [
       "<matplotlib.axes._subplots.AxesSubplot at 0x20ce5d05860>"
      ]
     },
     "execution_count": 105,
     "metadata": {},
     "output_type": "execute_result"
    },
    {
     "data": {
      "image/png": "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\n",
      "text/plain": [
       "<Figure size 410.4x307.44 with 1 Axes>"
      ]
     },
     "metadata": {},
     "output_type": "display_data"
    }
   ],
   "source": [
    "# distplot for cust_payment_terms\n",
    "\n",
    "sns.set(rc={'figure.figsize':(5.7,4.27)})\n",
    "sns.distplot(dfTrain.cust_payment_terms)"
   ]
  },
  {
   "cell_type": "markdown",
   "metadata": {},
   "source": [
    "Right skewed so outliers need to be removed"
   ]
  },
  {
   "cell_type": "code",
   "execution_count": 106,
   "metadata": {},
   "outputs": [
    {
     "name": "stdout",
     "output_type": "stream",
     "text": [
      "-12.307685222400682\n",
      "11.125865541088292\n"
     ]
    },
    {
     "data": {
      "text/plain": [
       "(28197, 10)"
      ]
     },
     "execution_count": 106,
     "metadata": {},
     "output_type": "execute_result"
    }
   ],
   "source": [
    "#using interquartile range to find upper and lower bound\n",
    "#data which will not fit in this range will be dropped\n",
    "#used quantile range as 80% to 20% and distance as 3\n",
    "\n",
    "IQR = dfTrain['cust_payment_terms'].quantile(0.80) - dfTrain['cust_payment_terms'].quantile(0.20)\n",
    "lower_boundary = dfTrain['cust_payment_terms'].quantile(0.20) - (IQR * 3)\n",
    "upper_boundary = dfTrain['cust_payment_terms'].quantile(0.80) + (IQR * 3)\n",
    "print(lower_boundary)\n",
    "print(upper_boundary)\n",
    "\n",
    "l = [x for x in range(int(lower_boundary), int(upper_boundary))]\n",
    "dfTrain = dfTrain[dfTrain['cust_payment_terms'].astype(int).isin(l)]\n",
    "dfTrain.shape"
   ]
  },
  {
   "cell_type": "code",
   "execution_count": 107,
   "metadata": {},
   "outputs": [
    {
     "data": {
      "text/plain": [
       "<matplotlib.axes._subplots.AxesSubplot at 0x20ce5e34278>"
      ]
     },
     "execution_count": 107,
     "metadata": {},
     "output_type": "execute_result"
    },
    {
     "data": {
      "image/png": "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
